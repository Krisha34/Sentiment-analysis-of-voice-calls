{
  "cells": [
    {
      "cell_type": "code",
      "execution_count": 1,
      "metadata": {
        "colab": {
          "base_uri": "https://localhost:8080/"
        },
        "id": "4joxp2nvrhjN",
        "outputId": "b754b2b3-2753-4d35-c6fb-8afdc1c7a540"
      },
      "outputs": [
        {
          "output_type": "stream",
          "name": "stdout",
          "text": [
            "Mounted at /content/drive\n"
          ]
        }
      ],
      "source": [
        "from google.colab import drive\n",
        "drive.mount('/content/drive')"
      ]
    },
    {
      "cell_type": "code",
      "execution_count": 2,
      "metadata": {
        "colab": {
          "base_uri": "https://localhost:8080/"
        },
        "id": "ccbFj_xtr39H",
        "outputId": "3af7c4d8-5525-4b76-f50a-2a81925fd332"
      },
      "outputs": [
        {
          "output_type": "stream",
          "name": "stdout",
          "text": [
            "Dataset is Loaded\n"
          ]
        }
      ],
      "source": [
        "import pandas as pd\n",
        "import numpy as np\n",
        "import os\n",
        "import seaborn as sns\n",
        "import matplotlib.pyplot as plt\n",
        "#package for music and audio analysis\n",
        "import librosa\n",
        "import librosa.display\n",
        "from IPython.display import Audio\n",
        "import warnings\n",
        "warnings.filterwarnings('ignore')\n",
        "\n",
        "# Load data from the TESS dataset\n",
        "data = []\n",
        "labels = []\n",
        "for dirname, _, filenames in os.walk('/content/drive/MyDrive/TESS Toronto emotional speech set data'):\n",
        "    for filename in filenames:\n",
        "        data.append(os.path.join(dirname, filename))\n",
        "        label = filename.split('_')[-1]\n",
        "        label = label.split('.')[0]\n",
        "        labels.append(label.lower())\n",
        "print('Dataset is Loaded')"
      ]
    },
    {
      "cell_type": "code",
      "execution_count": 3,
      "metadata": {
        "id": "mwehixuHsVFR"
      },
      "outputs": [],
      "source": [
        "import os\n",
        "import librosa\n",
        "import numpy as np\n",
        "import librosa.display\n",
        "import matplotlib.pyplot as plt\n",
        "\n",
        "# Function to generate and save spectrogram\n",
        "def generate_and_save_spectrogram(file_path, output_dir):\n",
        "    # Load audio file\n",
        "    audio_data, sr = librosa.load(file_path)\n",
        "\n",
        "    # Generate spectrogram\n",
        "    spectrogram = librosa.feature.melspectrogram(y=audio_data, sr=sr)\n",
        "    spectrogram_db = librosa.power_to_db(spectrogram, ref=np.max)\n",
        "\n",
        "    # Plot and save the spectrogram\n",
        "    plt.figure(figsize=(10, 4))\n",
        "    librosa.display.specshow(spectrogram_db, y_axis='mel', x_axis='time')\n",
        "    plt.colorbar(format='%+2.0f dB')\n",
        "    plt.title('Spectrogram')\n",
        "\n",
        "    # Create the output directory if it doesn't exist\n",
        "    os.makedirs(output_dir, exist_ok=True)\n",
        "\n",
        "    # Save the spectrogram as an image file if it doesn't exist\n",
        "    output_file = os.path.join(output_dir, os.path.splitext(os.path.basename(file_path))[0] + '_spectrogram.png')\n",
        "    if not os.path.exists(output_file):\n",
        "        plt.savefig(output_file)\n",
        "\n",
        "    plt.close()\n",
        "\n",
        "# Path to the TESS dataset\n",
        "data_path = '/content/drive/MyDrive/TESS Toronto emotional speech set data'  # Update this path to the location of your TESS dataset\n",
        "output_directory = '/content/drive/MyDrive/Final Year/Spectogram'  # Update this path to the desired output directory\n",
        "\n",
        "# Iterate through audio files in the dataset\n",
        "for root, dirs, files in os.walk(data_path):\n",
        "    for file in files:\n",
        "        if file.endswith('.wav'):\n",
        "            file_path = os.path.join(root, file)\n",
        "            generate_and_save_spectrogram(file_path, output_directory)\n"
      ]
    },
    {
      "cell_type": "code",
      "execution_count": 4,
      "metadata": {
        "id": "m7PXyxPDn0yF",
        "colab": {
          "base_uri": "https://localhost:8080/"
        },
        "outputId": "8383af6e-de29-4b83-b09a-fb2eae406fc0"
      },
      "outputs": [
        {
          "output_type": "stream",
          "name": "stdout",
          "text": [
            "Accuracy: 87.32%\n"
          ]
        }
      ],
      "source": [
        "import os\n",
        "import librosa\n",
        "import numpy as np\n",
        "from sklearn.model_selection import train_test_split\n",
        "from sklearn.ensemble import RandomForestClassifier\n",
        "from sklearn.metrics import accuracy_score\n",
        "from sklearn.preprocessing import LabelEncoder\n",
        "from sklearn.preprocessing import StandardScaler\n",
        "\n",
        "# Function to extract features from spectrogram\n",
        "def extract_features(file_path, target_shape):\n",
        "    audio_data, _ = librosa.load(file_path)\n",
        "    spectrogram = librosa.feature.melspectrogram(y=audio_data)\n",
        "    spectrogram_flat = np.ravel(spectrogram)\n",
        "\n",
        "    # Pad or truncate to the target shape\n",
        "    if len(spectrogram_flat) < target_shape:\n",
        "        spectrogram_flat = np.pad(spectrogram_flat, (0, target_shape - len(spectrogram_flat)))\n",
        "    else:\n",
        "        spectrogram_flat = spectrogram_flat[:target_shape]\n",
        "\n",
        "    return spectrogram_flat\n",
        "\n",
        "# Path to the TESS dataset\n",
        "data_path = '/content/drive/MyDrive/TESS Toronto emotional speech set data'\n",
        "output_directory = '/content/drive/MyDrive/Final Year/Spectrogram'\n",
        "\n",
        "# Define a target shape for the features\n",
        "target_shape = 10000  # You can adjust this value based on your needs\n",
        "\n",
        "# Create a list to store features and labels\n",
        "features = []\n",
        "labels = []\n",
        "\n",
        "# Iterate through audio files in the dataset\n",
        "for root, dirs, files in os.walk(data_path):\n",
        "    for file in files:\n",
        "        if file.endswith('.wav'):\n",
        "            file_path = os.path.join(root, file)\n",
        "            spectrogram_features = extract_features(file_path, target_shape)\n",
        "            features.append(spectrogram_features)\n",
        "            label = file.split('_')[-1].split('.')[0].lower()\n",
        "            labels.append(label)\n",
        "\n",
        "# Convert labels to numerical format\n",
        "label_encoder = LabelEncoder()\n",
        "encoded_labels = label_encoder.fit_transform(labels)\n",
        "\n",
        "# Split the data into training and testing sets\n",
        "X_train, X_test, y_train, y_test = train_test_split(features, encoded_labels, test_size=0.2, random_state=42)\n",
        "\n",
        "# Standardize features\n",
        "scaler = StandardScaler()\n",
        "X_train = scaler.fit_transform(X_train)\n",
        "X_test = scaler.transform(X_test)\n",
        "\n",
        "# Train a Random Forest classifier\n",
        "model = RandomForestClassifier(n_estimators=100, random_state=42)\n",
        "model.fit(X_train, y_train)\n",
        "\n",
        "# Make predictions on the test set\n",
        "y_pred = model.predict(X_test)\n",
        "\n",
        "# Evaluate the model\n",
        "accuracy = accuracy_score(y_test, y_pred)\n",
        "print(f\"Accuracy: {accuracy * 100:.2f}%\")\n"
      ]
    },
    {
      "cell_type": "code",
      "execution_count": 5,
      "metadata": {
        "colab": {
          "base_uri": "https://localhost:8080/",
          "height": 93
        },
        "id": "99hNUtH7JtVv",
        "outputId": "f8d93ec2-e7d4-4bf8-fc47-a44936271b72"
      },
      "outputs": [
        {
          "output_type": "stream",
          "name": "stdout",
          "text": [
            "Predicted Emotion: sad\n"
          ]
        },
        {
          "output_type": "execute_result",
          "data": {
            "text/plain": [
              "<IPython.lib.display.Audio object>"
            ],
            "text/html": [
              "\n",
              "                <audio  controls=\"controls\" >\n",
              "                    <source src=\"data:audio/wav;base64,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\" type=\"audio/wav\" />\n",
              "                    Your browser does not support the audio element.\n",
              "                </audio>\n",
              "              "
            ]
          },
          "metadata": {},
          "execution_count": 5
        }
      ],
      "source": [
        "import os\n",
        "import librosa\n",
        "import numpy as np\n",
        "from sklearn.ensemble import RandomForestClassifier\n",
        "from sklearn.preprocessing import StandardScaler\n",
        "from sklearn.model_selection import train_test_split\n",
        "from sklearn.metrics import accuracy_score\n",
        "from sklearn.preprocessing import LabelEncoder\n",
        "import joblib\n",
        "from IPython.display import Audio\n",
        "\n",
        "# Function to extract features from spectrogram\n",
        "def extract_features(file_path, target_shape):\n",
        "    audio_data, _ = librosa.load(file_path)\n",
        "    spectrogram = librosa.feature.melspectrogram(y=audio_data)\n",
        "    spectrogram_flat = np.ravel(spectrogram)\n",
        "\n",
        "    # Pad or truncate to the target shape\n",
        "    if len(spectrogram_flat) < target_shape:\n",
        "        spectrogram_flat = np.pad(spectrogram_flat, (0, target_shape - len(spectrogram_flat)))\n",
        "    else:\n",
        "        spectrogram_flat = spectrogram_flat[:target_shape]\n",
        "\n",
        "    return spectrogram_flat\n",
        "\n",
        "# Path to the TESS dataset\n",
        "data_path = '/content/drive/MyDrive/TESS Toronto emotional speech set data'\n",
        "output_directory = '/content/drive/MyDrive/Final Year/Spectrogram'\n",
        "\n",
        "# Define a target shape for the features\n",
        "target_shape = 10000  # You can adjust this value based on your needs\n",
        "\n",
        "# Create a list to store features and labels\n",
        "features = []\n",
        "labels = []\n",
        "\n",
        "# Iterate through audio files in the dataset\n",
        "for root, dirs, files in os.walk(data_path):\n",
        "    for file in files:\n",
        "        if file.endswith('.wav'):\n",
        "            file_path = os.path.join(root, file)\n",
        "            spectrogram_features = extract_features(file_path, target_shape)\n",
        "            features.append(spectrogram_features)\n",
        "            label = file.split('_')[-1].split('.')[0].lower()\n",
        "            labels.append(label)\n",
        "\n",
        "# Convert labels to numerical format\n",
        "label_encoder = LabelEncoder()\n",
        "encoded_labels = label_encoder.fit_transform(labels)\n",
        "\n",
        "# Split the data into training and testing sets\n",
        "X_train, X_test, y_train, y_test = train_test_split(features, encoded_labels, test_size=0.2, random_state=42)\n",
        "\n",
        "# Standardize features\n",
        "scaler = StandardScaler()\n",
        "X_train = scaler.fit_transform(X_train)\n",
        "X_test = scaler.transform(X_test)\n",
        "\n",
        "# Train a Random Forest classifier\n",
        "model = RandomForestClassifier(n_estimators=100, random_state=42)\n",
        "model.fit(X_train, y_train)\n",
        "\n",
        "# Save the trained model to a pickle file\n",
        "model_save_path = '/content/drive/MyDrive/Final Year/RandomForestModel.h5'\n",
        "joblib.dump(model, model_save_path)\n",
        "\n",
        "# Function to predict emotion from audio path\n",
        "def predict_emotion(audio_path):\n",
        "    # Load the trained Random Forest model\n",
        "    model = joblib.load(model_save_path)\n",
        "\n",
        "    # Extract features from the audio file\n",
        "    features = extract_features(audio_path, target_shape)\n",
        "\n",
        "    # Standardize features\n",
        "    features = scaler.transform([features])\n",
        "\n",
        "    # Make prediction\n",
        "    prediction = model.predict(features)\n",
        "\n",
        "    # Decode the numerical prediction to emotion label\n",
        "    predicted_emotion = label_encoder.inverse_transform(prediction)[0]\n",
        "\n",
        "    return predicted_emotion\n",
        "\n",
        "# Example usage\n",
        "audio_path_to_predict = '/content/drive/MyDrive/TESS Toronto emotional speech set data/YAF_sad/YAF_back_sad.wav'  # Replace with the actual path to your audio file\n",
        "predicted_emotion = predict_emotion(audio_path_to_predict)\n",
        "print(f\"Predicted Emotion: {predicted_emotion}\")\n",
        "\n",
        "# Optionally, play the audio for verification\n",
        "audio, _ = librosa.load(audio_path_to_predict)\n",
        "Audio(audio, rate=_)"
      ]
    },
    {
      "cell_type": "code",
      "source": [
        "audio_files_to_predict = [\n",
        "\n",
        "    '/content/drive/MyDrive/Final Year/angry6.wav',\n",
        "    '/content/drive/MyDrive/Final Year/angry5.wav',\n",
        "    '/content/drive/MyDrive/Final Year/happy5(disgust).wav',\n",
        "    '/content/drive/MyDrive/Final Year/neutral5(sad).wav',\n",
        "    '/content/drive/MyDrive/Final Year/neutral4.wav',\n",
        "    '/content/drive/MyDrive/Final Year/happy4(neutraldisgustsad).wav',\n",
        "    '/content/drive/MyDrive/Final Year/negative(neutral).wav',\n",
        "    '/content/drive/MyDrive/Final Year/angry3.wav',\n",
        "    '/content/drive/MyDrive/Final Year/silences(happy).wav',\n",
        "    '/content/drive/MyDrive/Final Year/happy3.wav',\n",
        "    '/content/drive/MyDrive/Final Year/angry4.wav',\n",
        "    '/content/drive/MyDrive/Final Year/neutral3(sad).wav',\n",
        "    '/content/drive/MyDrive/Final Year/happy2.wav',\n",
        "    '/content/drive/MyDrive/Final Year/neutral2(sad).wav',\n",
        "    '/content/drive/MyDrive/Final Year/happy.wav'\n",
        "]\n",
        "\n",
        "# Predict emotions for each audio file\n",
        "for audio_path_to_predict in audio_files_to_predict:\n",
        "    predicted_emotion = predict_emotion(audio_path_to_predict)\n",
        "    print(f\"Audio: {audio_path_to_predict}, Predicted Emotion: {predicted_emotion}\")"
      ],
      "metadata": {
        "colab": {
          "base_uri": "https://localhost:8080/"
        },
        "id": "1f7CMHNjWDrS",
        "outputId": "56ed8fe3-1134-44fe-9484-822c07e2c6b1"
      },
      "execution_count": 6,
      "outputs": [
        {
          "output_type": "stream",
          "name": "stdout",
          "text": [
            "Audio: /content/drive/MyDrive/Final Year/angry6.wav, Predicted Emotion: disgust\n",
            "Audio: /content/drive/MyDrive/Final Year/angry5.wav, Predicted Emotion: angry\n",
            "Audio: /content/drive/MyDrive/Final Year/happy5(disgust).wav, Predicted Emotion: angry\n",
            "Audio: /content/drive/MyDrive/Final Year/neutral5(sad).wav, Predicted Emotion: angry\n",
            "Audio: /content/drive/MyDrive/Final Year/neutral4.wav, Predicted Emotion: angry\n",
            "Audio: /content/drive/MyDrive/Final Year/happy4(neutraldisgustsad).wav, Predicted Emotion: angry\n",
            "Audio: /content/drive/MyDrive/Final Year/negative(neutral).wav, Predicted Emotion: angry\n",
            "Audio: /content/drive/MyDrive/Final Year/angry3.wav, Predicted Emotion: happy\n",
            "Audio: /content/drive/MyDrive/Final Year/silences(happy).wav, Predicted Emotion: angry\n",
            "Audio: /content/drive/MyDrive/Final Year/happy3.wav, Predicted Emotion: angry\n",
            "Audio: /content/drive/MyDrive/Final Year/angry4.wav, Predicted Emotion: angry\n",
            "Audio: /content/drive/MyDrive/Final Year/neutral3(sad).wav, Predicted Emotion: disgust\n",
            "Audio: /content/drive/MyDrive/Final Year/happy2.wav, Predicted Emotion: disgust\n",
            "Audio: /content/drive/MyDrive/Final Year/neutral2(sad).wav, Predicted Emotion: angry\n",
            "Audio: /content/drive/MyDrive/Final Year/happy.wav, Predicted Emotion: happy\n"
          ]
        }
      ]
    },
    {
      "cell_type": "code",
      "source": [],
      "metadata": {
        "id": "IC9_PGbFWD1w"
      },
      "execution_count": null,
      "outputs": []
    },
    {
      "cell_type": "code",
      "execution_count": 7,
      "metadata": {
        "id": "aIHBbxvts-Us",
        "colab": {
          "base_uri": "https://localhost:8080/"
        },
        "outputId": "572f7b86-bced-4444-c20e-faf10dc1bc18"
      },
      "outputs": [
        {
          "output_type": "stream",
          "name": "stdout",
          "text": [
            "Epoch 1/10\n",
            "70/70 [==============================] - 13s 86ms/step - loss: 21.1134 - accuracy: 0.9062 - val_loss: 0.1866 - val_accuracy: 0.9339\n",
            "Epoch 2/10\n",
            "70/70 [==============================] - 4s 54ms/step - loss: 0.1728 - accuracy: 0.9804 - val_loss: 0.1906 - val_accuracy: 0.9589\n",
            "Epoch 3/10\n",
            "70/70 [==============================] - 4s 53ms/step - loss: 0.1820 - accuracy: 0.9714 - val_loss: 0.1786 - val_accuracy: 0.9768\n",
            "Epoch 4/10\n",
            "70/70 [==============================] - 4s 53ms/step - loss: 0.0524 - accuracy: 0.9911 - val_loss: 0.0207 - val_accuracy: 0.9982\n",
            "Epoch 5/10\n",
            "70/70 [==============================] - 4s 59ms/step - loss: 0.0175 - accuracy: 0.9973 - val_loss: 0.0271 - val_accuracy: 0.9911\n",
            "Epoch 6/10\n",
            "70/70 [==============================] - 4s 53ms/step - loss: 0.0171 - accuracy: 0.9969 - val_loss: 0.0045 - val_accuracy: 0.9982\n",
            "Epoch 7/10\n",
            "70/70 [==============================] - 4s 53ms/step - loss: 8.0920e-04 - accuracy: 0.9996 - val_loss: 0.0089 - val_accuracy: 0.9982\n",
            "Epoch 8/10\n",
            "70/70 [==============================] - 4s 55ms/step - loss: 2.9114e-04 - accuracy: 1.0000 - val_loss: 0.0104 - val_accuracy: 0.9982\n",
            "Epoch 9/10\n",
            "70/70 [==============================] - 4s 61ms/step - loss: 2.5251e-06 - accuracy: 1.0000 - val_loss: 0.0100 - val_accuracy: 0.9982\n",
            "Epoch 10/10\n",
            "70/70 [==============================] - 4s 53ms/step - loss: 2.2423e-06 - accuracy: 1.0000 - val_loss: 0.0101 - val_accuracy: 0.9982\n",
            "18/18 [==============================] - 0s 19ms/step - loss: 0.0101 - accuracy: 0.9982\n",
            "Test accuracy: 0.9982143044471741\n"
          ]
        }
      ],
      "source": [
        "import os\n",
        "import numpy as np\n",
        "import tensorflow as tf\n",
        "from tensorflow.keras import layers, models\n",
        "from sklearn.model_selection import train_test_split\n",
        "from sklearn.preprocessing import LabelEncoder\n",
        "\n",
        "# Path to the directory containing spectrogram images\n",
        "spectrogram_dir = '/content/drive/MyDrive/Final Year/Spectogram'\n",
        "\n",
        "# Function to load spectrogram images and corresponding labels\n",
        "def load_data(directory):\n",
        "    spectrograms = []\n",
        "    labels = []\n",
        "\n",
        "    for filename in os.listdir(directory):\n",
        "        if filename.endswith('.png'):\n",
        "            filepath = os.path.join(directory, filename)\n",
        "            label = filename.split('_')[0]  # Assuming the label is the first part of the filename\n",
        "            img = tf.keras.preprocessing.image.load_img(filepath, target_size=(224, 224))\n",
        "            img_array = tf.keras.preprocessing.image.img_to_array(img)\n",
        "            spectrograms.append(img_array)\n",
        "            labels.append(label)\n",
        "\n",
        "    return np.array(spectrograms), np.array(labels)\n",
        "\n",
        "# Load spectrograms and labels\n",
        "spectrograms, labels = load_data(spectrogram_dir)\n",
        "\n",
        "# Encode labels\n",
        "label_encoder = LabelEncoder()\n",
        "encoded_labels = label_encoder.fit_transform(labels)\n",
        "\n",
        "# Split data into training and testing sets\n",
        "X_train, X_test, y_train, y_test = train_test_split(spectrograms, encoded_labels, test_size=0.2, random_state=42)\n",
        "\n",
        "# Define the CNN model\n",
        "model = models.Sequential()\n",
        "model.add(layers.Conv2D(32, (3, 3), activation='relu', input_shape=(224, 224, 3)))\n",
        "model.add(layers.MaxPooling2D((2, 2)))\n",
        "model.add(layers.Conv2D(64, (3, 3), activation='relu'))\n",
        "model.add(layers.MaxPooling2D((2, 2)))\n",
        "model.add(layers.Conv2D(128, (3, 3), activation='relu'))\n",
        "model.add(layers.MaxPooling2D((2, 2)))\n",
        "model.add(layers.Flatten())\n",
        "model.add(layers.Dense(128, activation='relu'))\n",
        "model.add(layers.Dense(len(label_encoder.classes_), activation='softmax'))\n",
        "\n",
        "# Compile the model\n",
        "model.compile(optimizer='adam',\n",
        "              loss='sparse_categorical_crossentropy',\n",
        "              metrics=['accuracy'])\n",
        "\n",
        "# Train the model\n",
        "model.fit(X_train, y_train, epochs=10, validation_data=(X_test, y_test))\n",
        "\n",
        "# Evaluate the model\n",
        "test_loss, test_acc = model.evaluate(X_test, y_test)\n",
        "print(f'Test accuracy: {test_acc}')\n",
        "\n",
        "# Save the model\n",
        "model.save('/content/drive/MyDrive/Final Year/spectrogram_cnn_model.h5')\n"
      ]
    },
    {
      "cell_type": "code",
      "source": [
        "import librosa\n",
        "import librosa.display\n",
        "import numpy as np\n",
        "import matplotlib.pyplot as plt\n",
        "import tensorflow as tf\n",
        "\n",
        "# Load the trained CNN model\n",
        "model = tf.keras.models.load_model('/content/drive/MyDrive/Final Year/spectrogram_cnn_model.h5')\n",
        "\n",
        "# Function to preprocess audio and make predictions\n",
        "def predict_emotion(audio_path):\n",
        "    # Load audio file\n",
        "    audio_data, sr = librosa.load(audio_path)\n",
        "\n",
        "    # Generate spectrogram\n",
        "    spectrogram = librosa.feature.melspectrogram(y=audio_data, sr=sr)\n",
        "    spectrogram_db = librosa.power_to_db(spectrogram, ref=np.max)\n",
        "\n",
        "    # Resize the spectrogram image to match the model input shape\n",
        "    spectrogram_image = tf.image.resize(np.expand_dims(spectrogram_db, axis=-1), (224, 224))\n",
        "\n",
        "    # Replicate the single channel to create three identical channels\n",
        "    spectrogram_image = tf.image.grayscale_to_rgb(spectrogram_image)\n",
        "\n",
        "    # Reshape and normalize the spectrogram\n",
        "    spectrogram_image = np.expand_dims(spectrogram_image, axis=0)\n",
        "    spectrogram_image = tf.keras.utils.normalize(spectrogram_image, axis=1)\n",
        "\n",
        "    # Make prediction\n",
        "    prediction = model.predict(spectrogram_image)\n",
        "\n",
        "    # Decode the predicted label\n",
        "    predicted_label = label_encoder.classes_[np.argmax(prediction)]\n",
        "\n",
        "    return predicted_label\n",
        "\n",
        "# Example usage\n",
        "audio_path = '/content/drive/MyDrive/Final Year/angry3.wav'\n",
        "predicted_emotion = predict_emotion(audio_path)\n",
        "print(f'Predicted Emotion: {predicted_emotion}')\n"
      ],
      "metadata": {
        "colab": {
          "base_uri": "https://localhost:8080/"
        },
        "id": "tsY5k-1kr7YQ",
        "outputId": "4c0ea4fb-9622-4b37-ba18-d15f6f3a5745"
      },
      "execution_count": 8,
      "outputs": [
        {
          "output_type": "stream",
          "name": "stdout",
          "text": [
            "1/1 [==============================] - 1s 625ms/step\n",
            "Predicted Emotion: OAF\n"
          ]
        }
      ]
    },
    {
      "cell_type": "code",
      "source": [
        "audio_files_to_predict = [\n",
        "\n",
        "    '/content/drive/MyDrive/Final Year/angry6.wav',\n",
        "    '/content/drive/MyDrive/Final Year/angry5.wav',\n",
        "    '/content/drive/MyDrive/Final Year/happy5(disgust).wav',\n",
        "    '/content/drive/MyDrive/Final Year/neutral5(sad).wav',\n",
        "    '/content/drive/MyDrive/Final Year/neutral4.wav',\n",
        "    '/content/drive/MyDrive/Final Year/happy4(neutraldisgustsad).wav',\n",
        "    '/content/drive/MyDrive/Final Year/negative(neutral).wav',\n",
        "    '/content/drive/MyDrive/Final Year/angry3.wav',\n",
        "    '/content/drive/MyDrive/Final Year/silences(happy).wav',\n",
        "    '/content/drive/MyDrive/Final Year/happy3.wav',\n",
        "    '/content/drive/MyDrive/Final Year/angry4.wav',\n",
        "    '/content/drive/MyDrive/Final Year/neutral3(sad).wav',\n",
        "    '/content/drive/MyDrive/Final Year/happy2.wav',\n",
        "    '/content/drive/MyDrive/Final Year/neutral2(sad).wav',\n",
        "    '/content/drive/MyDrive/Final Year/happy.wav'\n",
        "]\n",
        "\n",
        "# Predict emotions for each audio file\n",
        "for audio_path_to_predict in audio_files_to_predict:\n",
        "    predicted_emotion = predict_emotion(audio_path_to_predict)\n",
        "    print(f\"Audio: {audio_path_to_predict}, Predicted Emotion: {predicted_emotion}\")"
      ],
      "metadata": {
        "id": "pnzoeQ31taHp",
        "outputId": "9996937b-a9e1-4427-fa28-e40ef4c6c8ec",
        "colab": {
          "base_uri": "https://localhost:8080/"
        }
      },
      "execution_count": 9,
      "outputs": [
        {
          "output_type": "stream",
          "name": "stdout",
          "text": [
            "1/1 [==============================] - 0s 30ms/step\n",
            "Audio: /content/drive/MyDrive/Final Year/angry6.wav, Predicted Emotion: OAF\n",
            "1/1 [==============================] - 0s 33ms/step\n",
            "Audio: /content/drive/MyDrive/Final Year/angry5.wav, Predicted Emotion: OAF\n",
            "1/1 [==============================] - 0s 25ms/step\n",
            "Audio: /content/drive/MyDrive/Final Year/happy5(disgust).wav, Predicted Emotion: OAF\n",
            "1/1 [==============================] - 0s 26ms/step\n",
            "Audio: /content/drive/MyDrive/Final Year/neutral5(sad).wav, Predicted Emotion: OAF\n",
            "1/1 [==============================] - 0s 31ms/step\n",
            "Audio: /content/drive/MyDrive/Final Year/neutral4.wav, Predicted Emotion: OAF\n",
            "1/1 [==============================] - 0s 25ms/step\n",
            "Audio: /content/drive/MyDrive/Final Year/happy4(neutraldisgustsad).wav, Predicted Emotion: OAF\n",
            "1/1 [==============================] - 0s 26ms/step\n",
            "Audio: /content/drive/MyDrive/Final Year/negative(neutral).wav, Predicted Emotion: OAF\n",
            "1/1 [==============================] - 0s 32ms/step\n",
            "Audio: /content/drive/MyDrive/Final Year/angry3.wav, Predicted Emotion: OAF\n",
            "1/1 [==============================] - 0s 26ms/step\n",
            "Audio: /content/drive/MyDrive/Final Year/silences(happy).wav, Predicted Emotion: OAF\n",
            "1/1 [==============================] - 0s 28ms/step\n",
            "Audio: /content/drive/MyDrive/Final Year/happy3.wav, Predicted Emotion: OAF\n",
            "1/1 [==============================] - 0s 26ms/step\n",
            "Audio: /content/drive/MyDrive/Final Year/angry4.wav, Predicted Emotion: OAF\n",
            "1/1 [==============================] - 0s 26ms/step\n",
            "Audio: /content/drive/MyDrive/Final Year/neutral3(sad).wav, Predicted Emotion: OAF\n",
            "1/1 [==============================] - 0s 27ms/step\n",
            "Audio: /content/drive/MyDrive/Final Year/happy2.wav, Predicted Emotion: OAF\n",
            "1/1 [==============================] - 0s 27ms/step\n",
            "Audio: /content/drive/MyDrive/Final Year/neutral2(sad).wav, Predicted Emotion: OAF\n",
            "1/1 [==============================] - 0s 48ms/step\n",
            "Audio: /content/drive/MyDrive/Final Year/happy.wav, Predicted Emotion: OAF\n"
          ]
        }
      ]
    },
    {
      "cell_type": "code",
      "execution_count": null,
      "metadata": {
        "id": "t78uEP-9y9Eq"
      },
      "outputs": [],
      "source": [
        "import os\n",
        "import librosa\n",
        "import numpy as np\n",
        "from keras.models import load_model\n",
        "\n",
        "# Function to extract features from spectrogram\n",
        "def extract_features(file_path, pad_length=128):\n",
        "    audio_data, _ = librosa.load(file_path)\n",
        "    spectrogram = librosa.feature.melspectrogram(y=audio_data)\n",
        "    spectrogram = librosa.power_to_db(spectrogram, ref=np.max)  # Convert to dB scale\n",
        "\n",
        "    # Pad or truncate to a fixed length\n",
        "    if spectrogram.shape[1] < pad_length:\n",
        "        spectrogram = np.pad(spectrogram, ((0, 0), (0, pad_length - spectrogram.shape[1])))\n",
        "    else:\n",
        "        spectrogram = spectrogram[:, :pad_length]\n",
        "\n",
        "    return spectrogram\n",
        "\n",
        "# Load the trained CNN model\n",
        "model_path = '/content/drive/MyDrive/emotionRecognitionModelcnn.h5'  # Update with the path to your trained model file\n",
        "model = load_model(model_path)\n",
        "\n",
        "# Function to predict emotion from an audio file\n",
        "def predict_emotion(audio_path):\n",
        "    # Extract features from the audio file\n",
        "    spectrogram = extract_features(audio_path)\n",
        "    spectrogram = spectrogram[np.newaxis, :, :, np.newaxis]  # Add batch and channel dimensions\n",
        "\n",
        "    # Make prediction\n",
        "    predictions = model.predict(spectrogram)\n",
        "    predicted_class = np.argmax(predictions)\n",
        "\n",
        "    # Decode the predicted class to emotion label\n",
        "    emotion_label = label_encoder.classes_[predicted_class]\n",
        "\n",
        "    return emotion_label\n",
        "\n",
        "# Example usage:\n",
        "audio_path_to_predict = '//content/drive/MyDrive/Final Year/call.wav'  # Update with the path to the audio file you want to predict\n",
        "predicted_emotion = predict_emotion(audio_path_to_predict)\n",
        "\n",
        "print(f\"Predicted Emotion: {predicted_emotion}\")\n"
      ]
    },
    {
      "cell_type": "code",
      "execution_count": null,
      "metadata": {
        "colab": {
          "base_uri": "https://localhost:8080/",
          "height": 457
        },
        "id": "pX30SLTuudUA",
        "outputId": "a8568f95-8d45-41de-a4b1-b2998d9f09d3"
      },
      "outputs": [
        {
          "name": "stdout",
          "output_type": "stream",
          "text": [
            "Extracted Emotion Labels: []\n",
            "Encoded Labels: []\n"
          ]
        },
        {
          "ename": "ValueError",
          "evalue": "zero-size array to reduction operation maximum which has no identity",
          "output_type": "error",
          "traceback": [
            "\u001b[0;31m---------------------------------------------------------------------------\u001b[0m",
            "\u001b[0;31mValueError\u001b[0m                                Traceback (most recent call last)",
            "\u001b[0;32m<ipython-input-7-e5a0d661dd8e>\u001b[0m in \u001b[0;36m<cell line: 56>\u001b[0;34m()\u001b[0m\n\u001b[1;32m     54\u001b[0m \u001b[0;34m\u001b[0m\u001b[0m\n\u001b[1;32m     55\u001b[0m \u001b[0;31m# Convert numerical labels to one-hot encoding\u001b[0m\u001b[0;34m\u001b[0m\u001b[0;34m\u001b[0m\u001b[0m\n\u001b[0;32m---> 56\u001b[0;31m \u001b[0my_one_hot\u001b[0m \u001b[0;34m=\u001b[0m \u001b[0mto_categorical\u001b[0m\u001b[0;34m(\u001b[0m\u001b[0my_encoded\u001b[0m\u001b[0;34m)\u001b[0m\u001b[0;34m\u001b[0m\u001b[0;34m\u001b[0m\u001b[0m\n\u001b[0m\u001b[1;32m     57\u001b[0m \u001b[0;34m\u001b[0m\u001b[0m\n\u001b[1;32m     58\u001b[0m \u001b[0;31m# Print one-hot encoded labels\u001b[0m\u001b[0;34m\u001b[0m\u001b[0;34m\u001b[0m\u001b[0m\n",
            "\u001b[0;32m/usr/local/lib/python3.10/dist-packages/keras/src/utils/np_utils.py\u001b[0m in \u001b[0;36mto_categorical\u001b[0;34m(y, num_classes, dtype)\u001b[0m\n\u001b[1;32m     69\u001b[0m     \u001b[0my\u001b[0m \u001b[0;34m=\u001b[0m \u001b[0my\u001b[0m\u001b[0;34m.\u001b[0m\u001b[0mreshape\u001b[0m\u001b[0;34m(\u001b[0m\u001b[0;34m-\u001b[0m\u001b[0;36m1\u001b[0m\u001b[0;34m)\u001b[0m\u001b[0;34m\u001b[0m\u001b[0;34m\u001b[0m\u001b[0m\n\u001b[1;32m     70\u001b[0m     \u001b[0;32mif\u001b[0m \u001b[0;32mnot\u001b[0m \u001b[0mnum_classes\u001b[0m\u001b[0;34m:\u001b[0m\u001b[0;34m\u001b[0m\u001b[0;34m\u001b[0m\u001b[0m\n\u001b[0;32m---> 71\u001b[0;31m         \u001b[0mnum_classes\u001b[0m \u001b[0;34m=\u001b[0m \u001b[0mnp\u001b[0m\u001b[0;34m.\u001b[0m\u001b[0mmax\u001b[0m\u001b[0;34m(\u001b[0m\u001b[0my\u001b[0m\u001b[0;34m)\u001b[0m \u001b[0;34m+\u001b[0m \u001b[0;36m1\u001b[0m\u001b[0;34m\u001b[0m\u001b[0;34m\u001b[0m\u001b[0m\n\u001b[0m\u001b[1;32m     72\u001b[0m     \u001b[0mn\u001b[0m \u001b[0;34m=\u001b[0m \u001b[0my\u001b[0m\u001b[0;34m.\u001b[0m\u001b[0mshape\u001b[0m\u001b[0;34m[\u001b[0m\u001b[0;36m0\u001b[0m\u001b[0;34m]\u001b[0m\u001b[0;34m\u001b[0m\u001b[0;34m\u001b[0m\u001b[0m\n\u001b[1;32m     73\u001b[0m     \u001b[0mcategorical\u001b[0m \u001b[0;34m=\u001b[0m \u001b[0mnp\u001b[0m\u001b[0;34m.\u001b[0m\u001b[0mzeros\u001b[0m\u001b[0;34m(\u001b[0m\u001b[0;34m(\u001b[0m\u001b[0mn\u001b[0m\u001b[0;34m,\u001b[0m \u001b[0mnum_classes\u001b[0m\u001b[0;34m)\u001b[0m\u001b[0;34m,\u001b[0m \u001b[0mdtype\u001b[0m\u001b[0;34m=\u001b[0m\u001b[0mdtype\u001b[0m\u001b[0;34m)\u001b[0m\u001b[0;34m\u001b[0m\u001b[0;34m\u001b[0m\u001b[0m\n",
            "\u001b[0;32m/usr/local/lib/python3.10/dist-packages/numpy/core/overrides.py\u001b[0m in \u001b[0;36mamax\u001b[0;34m(*args, **kwargs)\u001b[0m\n",
            "\u001b[0;32m/usr/local/lib/python3.10/dist-packages/numpy/core/fromnumeric.py\u001b[0m in \u001b[0;36mamax\u001b[0;34m(a, axis, out, keepdims, initial, where)\u001b[0m\n\u001b[1;32m   2791\u001b[0m     \u001b[0;36m5\u001b[0m\u001b[0;34m\u001b[0m\u001b[0;34m\u001b[0m\u001b[0m\n\u001b[1;32m   2792\u001b[0m     \"\"\"\n\u001b[0;32m-> 2793\u001b[0;31m     return _wrapreduction(a, np.maximum, 'max', axis, None, out,\n\u001b[0m\u001b[1;32m   2794\u001b[0m                           keepdims=keepdims, initial=initial, where=where)\n\u001b[1;32m   2795\u001b[0m \u001b[0;34m\u001b[0m\u001b[0m\n",
            "\u001b[0;32m/usr/local/lib/python3.10/dist-packages/numpy/core/fromnumeric.py\u001b[0m in \u001b[0;36m_wrapreduction\u001b[0;34m(obj, ufunc, method, axis, dtype, out, **kwargs)\u001b[0m\n\u001b[1;32m     84\u001b[0m                 \u001b[0;32mreturn\u001b[0m \u001b[0mreduction\u001b[0m\u001b[0;34m(\u001b[0m\u001b[0maxis\u001b[0m\u001b[0;34m=\u001b[0m\u001b[0maxis\u001b[0m\u001b[0;34m,\u001b[0m \u001b[0mout\u001b[0m\u001b[0;34m=\u001b[0m\u001b[0mout\u001b[0m\u001b[0;34m,\u001b[0m \u001b[0;34m**\u001b[0m\u001b[0mpasskwargs\u001b[0m\u001b[0;34m)\u001b[0m\u001b[0;34m\u001b[0m\u001b[0;34m\u001b[0m\u001b[0m\n\u001b[1;32m     85\u001b[0m \u001b[0;34m\u001b[0m\u001b[0m\n\u001b[0;32m---> 86\u001b[0;31m     \u001b[0;32mreturn\u001b[0m \u001b[0mufunc\u001b[0m\u001b[0;34m.\u001b[0m\u001b[0mreduce\u001b[0m\u001b[0;34m(\u001b[0m\u001b[0mobj\u001b[0m\u001b[0;34m,\u001b[0m \u001b[0maxis\u001b[0m\u001b[0;34m,\u001b[0m \u001b[0mdtype\u001b[0m\u001b[0;34m,\u001b[0m \u001b[0mout\u001b[0m\u001b[0;34m,\u001b[0m \u001b[0;34m**\u001b[0m\u001b[0mpasskwargs\u001b[0m\u001b[0;34m)\u001b[0m\u001b[0;34m\u001b[0m\u001b[0;34m\u001b[0m\u001b[0m\n\u001b[0m\u001b[1;32m     87\u001b[0m \u001b[0;34m\u001b[0m\u001b[0m\n\u001b[1;32m     88\u001b[0m \u001b[0;34m\u001b[0m\u001b[0m\n",
            "\u001b[0;31mValueError\u001b[0m: zero-size array to reduction operation maximum which has no identity"
          ]
        }
      ],
      "source": [
        "import os\n",
        "from sklearn.model_selection import train_test_split\n",
        "from sklearn.preprocessing import LabelEncoder\n",
        "\n",
        "# Function to extract emotion label from the file name\n",
        "def extract_emotion_label(file):\n",
        "    # Assuming the emotion label is encoded in the file name\n",
        "    # You may need to adjust this based on your file naming convention\n",
        "    emotion = file.split('_')[0]  # Extract emotion from the file name (e.g., 'happy_spectrogram.png')\n",
        "    return emotion\n",
        "\n",
        "# Path to the directory containing generated spectrograms\n",
        "output_directory = '/content/drive/MyDrive/Final Year/Spectogram'  # Update this path to the directory containing your generated spectrograms\n",
        "\n",
        "# Load spectrograms and labels\n",
        "X, y = [], []\n",
        "\n",
        "for root, dirs, files in os.walk(output_directory):\n",
        "    for file in files:\n",
        "        if file.endswith('_spectrogram.png'):\n",
        "            file_path = os.path.join(root, file)\n",
        "\n",
        "            # Extract emotion label from the file name\n",
        "            emotion_label = extract_emotion_label(file)\n",
        "\n",
        "            # Append spectrogram data and emotion label to lists\n",
        "            X.append(file_path)\n",
        "            y.append(emotion_label)\n",
        "\n",
        "# Encode emotion labels to numerical values\n",
        "label_encoder = LabelEncoder()\n",
        "y_encoded = label_encoder.fit_transform(y)\n",
        "\n",
        "# Split the data into training and testing sets\n",
        "X_train, X_test, y_train, y_test = train_test_split(X, y_encoded, test_size=0.2, random_state=42)\n",
        "\n",
        "# Print the sizes of the training and testing sets\n",
        "print(\"Number of training samples:\", len(X_train))\n",
        "print(\"Number of testing samples:\", len(X_test))\n"
      ]
    },
    {
      "cell_type": "code",
      "execution_count": null,
      "metadata": {
        "colab": {
          "base_uri": "https://localhost:8080/"
        },
        "id": "dnQ1vYQUsbhv",
        "outputId": "6a10b8e1-ea1f-4e98-c098-dafb8d4cb7ad"
      },
      "outputs": [
        {
          "name": "stdout",
          "output_type": "stream",
          "text": [
            "Extracted Emotion Labels: []\n",
            "No emotion labels found. Check your label extraction logic.\n"
          ]
        },
        {
          "name": "stderr",
          "output_type": "stream",
          "text": [
            "<ipython-input-6-28ba059c04d1>:51: DeprecationWarning: The truth value of an empty array is ambiguous. Returning False, but in future this will result in an error. Use `array.size > 0` to check that an array is not empty.\n",
            "  if not y:\n"
          ]
        }
      ],
      "source": [
        "import os\n",
        "import numpy as np\n",
        "from sklearn.model_selection import train_test_split\n",
        "from sklearn.preprocessing import LabelEncoder\n",
        "from keras.utils import to_categorical\n",
        "from keras.models import Sequential\n",
        "from keras.layers import Conv2D, MaxPooling2D, Flatten, Dense, Dropout\n",
        "\n",
        "# Function to load spectrograms and labels\n",
        "def load_data(data_path):\n",
        "    X, y = [], []\n",
        "\n",
        "    for root, dirs, files in os.walk(data_path):\n",
        "        for file in files:\n",
        "            if file.endswith('_spectrogram.png'):  # Assuming your spectrogram files end with \"_spectrogram.png\"\n",
        "                file_path = os.path.join(root, file)\n",
        "\n",
        "                # Load your spectrogram image data (you may use a library like PIL or OpenCV for this)\n",
        "                spectrogram_data = load_spectrogram(file_path)\n",
        "\n",
        "                # Extract emotion label from the file name or metadata\n",
        "                emotion = extract_emotion_label(file)\n",
        "\n",
        "                X.append(spectrogram_data)\n",
        "                y.append(emotion)\n",
        "\n",
        "    return np.array(X), np.array(y)\n",
        "\n",
        "# Placeholder functions for loading spectrogram data and extracting emotion labels\n",
        "def load_spectrogram(file_path):\n",
        "    # Implement code to load your spectrogram image data (e.g., using PIL or OpenCV)\n",
        "    # Return the loaded data as a NumPy array\n",
        "    return np.zeros((your_spectrogram_height, your_spectrogram_width, your_spectrogram_channels))\n",
        "\n",
        "def extract_emotion_label(file):\n",
        "    # Assuming the emotion label is encoded in the file name\n",
        "    # You may need to adjust this based on your file naming convention\n",
        "    emotion = file.split('_')[0]  # Extract emotion from the file name (e.g., 'happy_spectrogram.png')\n",
        "    return emotion\n",
        "\n",
        "# Path to the directory containing generated spectrograms\n",
        "data_path = '/content/drive/MyDrive/TESS Toronto emotional speech set data'\n",
        "\n",
        "# Load spectrograms and labels\n",
        "X, y = load_data(data_path)\n",
        "\n",
        "# Print extracted emotion labels\n",
        "print(\"Extracted Emotion Labels:\", y)\n",
        "\n",
        "# Check if there are any extracted labels\n",
        "if not y:\n",
        "    print(\"No emotion labels found. Check your label extraction logic.\")\n",
        "else:\n",
        "    # Encode emotion labels to numerical values\n",
        "    label_encoder = LabelEncoder()\n",
        "    y_encoded = label_encoder.fit_transform(y)\n",
        "\n",
        "    # Print encoded labels\n",
        "    print(\"Encoded Labels:\", y_encoded)\n",
        "\n",
        "    # Check if there are any encoded labels\n",
        "    if not np.any(y_encoded):\n",
        "        print(\"No encoded labels found. Check your label encoding logic.\")\n",
        "    else:\n",
        "        # Convert numerical labels to one-hot encoding\n",
        "        y_one_hot = to_categorical(y_encoded)\n",
        "\n",
        "        # Print one-hot encoded labels\n",
        "        print(\"One-Hot Encoded Labels:\", y_one_hot)\n",
        "\n",
        "        # Split the data into training and testing sets\n",
        "        X_train, X_test, y_train, y_test = train_test_split(X, y_one_hot, test_size=0.2, random_state=42)\n",
        "\n",
        "        # Build a simple CNN model\n",
        "        model = Sequential()\n",
        "        model.add(Conv2D(32, (3, 3), activation='relu', input_shape=(your_spectrogram_height, your_spectrogram_width, your_spectrogram_channels)))\n",
        "        model.add(MaxPooling2D((2, 2)))\n",
        "        model.add(Conv2D(64, (3, 3), activation='relu'))\n",
        "        model.add(MaxPooling2D((2, 2)))\n",
        "        model.add(Flatten())\n",
        "        model.add(Dense(128, activation='relu'))\n",
        "        model.add(Dropout(0.5))\n",
        "        model.add(Dense(7, activation='softmax'))  # Adjust num_classes based on the number of emotion classes\n",
        "\n",
        "        # Compile the model\n",
        "        model.compile(optimizer='adam', loss='categorical_crossentropy', metrics=['accuracy'])\n",
        "\n",
        "        # Train the model\n",
        "        model.fit(X_train, y_train, epochs=10, batch_size=32, validation_data=(X_test, y_test))\n",
        "\n",
        "        # Evaluate the model on the test set\n",
        "        loss, accuracy = model.evaluate(X_test, y_test)\n",
        "        print(f'Loss: {loss}, Accuracy: {accuracy}')\n"
      ]
    },
    {
      "cell_type": "code",
      "execution_count": null,
      "metadata": {
        "colab": {
          "base_uri": "https://localhost:8080/",
          "height": 109
        },
        "id": "d7sgF8i9Jd60",
        "outputId": "25b42681-54c5-43ee-b534-563b3246a280"
      },
      "outputs": [
        {
          "ename": "SyntaxError",
          "evalue": "invalid syntax (<ipython-input-3-d11b36ed2990>, line 28)",
          "output_type": "error",
          "traceback": [
            "\u001b[0;36m  File \u001b[0;32m\"<ipython-input-3-d11b36ed2990>\"\u001b[0;36m, line \u001b[0;32m28\u001b[0m\n\u001b[0;31m    label = # Extract label from the file name or any other way\u001b[0m\n\u001b[0m            ^\u001b[0m\n\u001b[0;31mSyntaxError\u001b[0m\u001b[0;31m:\u001b[0m invalid syntax\n"
          ]
        }
      ],
      "source": [
        "import os\n",
        "import librosa\n",
        "import numpy as np\n",
        "import librosa.display\n",
        "import matplotlib.pyplot as plt\n",
        "from tensorflow.keras.models import Sequential\n",
        "from tensorflow.keras.layers import Conv2D, MaxPooling2D, Flatten, Dense\n",
        "from tensorflow.keras.utils import to_categorical\n",
        "from sklearn.model_selection import train_test_split\n",
        "from sklearn.preprocessing import LabelEncoder\n",
        "\n",
        "# Function to extract features from audio file\n",
        "def extract_features(file_path):\n",
        "    audio_data, sr = librosa.load(file_path)\n",
        "    spectrogram = librosa.feature.melspectrogram(y=audio_data, sr=sr)\n",
        "    spectrogram_db = librosa.power_to_db(spectrogram, ref=np.max)\n",
        "    return spectrogram_db\n",
        "\n",
        "# Load and preprocess the dataset\n",
        "data_path = '/content/drive/MyDrive/TESS Toronto emotional speech set data'\n",
        "labels = []  # Assuming you have labels for each audio file\n",
        "data = []\n",
        "\n",
        "for root, dirs, files in os.walk(data_path):\n",
        "    for file in files:\n",
        "        if file.endswith('.wav'):\n",
        "            file_path = os.path.join(root, file)\n",
        "            label = # Extract label from the file name or any other way\n",
        "            labels.append(label)\n",
        "            features = extract_features(file_path)\n",
        "            data.append(features)\n",
        "\n",
        "# Convert labels to numerical format\n",
        "label_encoder = LabelEncoder()\n",
        "encoded_labels = label_encoder.fit_transform(labels)\n",
        "encoded_labels_categorical = to_categorical(encoded_labels)\n",
        "\n",
        "# Split the dataset into training and testing sets\n",
        "X_train, X_test, y_train, y_test = train_test_split(np.array(data), encoded_labels_categorical, test_size=0.2, random_state=42)\n",
        "\n",
        "# Define the model\n",
        "model = Sequential()\n",
        "model.add(Conv2D(32, kernel_size=(3, 3), activation='relu', input_shape=(X_train.shape[1], X_train.shape[2], 1)))\n",
        "model.add(MaxPooling2D(pool_size=(2, 2)))\n",
        "model.add(Flatten())\n",
        "model.add(Dense(64, activation='relu'))\n",
        "model.add(Dense(num_classes, activation='softmax'))  # Adjust num_classes based on your task\n",
        "\n",
        "# Compile the model\n",
        "model.compile(loss='categorical_crossentropy', optimizer='adam', metrics=['accuracy'])\n",
        "\n",
        "# Train the model\n",
        "model.fit(np.expand_dims(X_train, axis=-1), y_train, epochs=10, batch_size=32, validation_split=0.2)\n",
        "\n",
        "# Evaluate the model\n",
        "accuracy = model.evaluate(np.expand_dims(X_test, axis=-1), y_test)[1]\n",
        "print(f'Test Accuracy: {accuracy}')\n"
      ]
    },
    {
      "cell_type": "code",
      "execution_count": null,
      "metadata": {
        "colab": {
          "base_uri": "https://localhost:8080/",
          "height": 459
        },
        "id": "2PwNOGYWK4gc",
        "outputId": "5b03639a-4e9d-4900-9c51-1be2fe49e181"
      },
      "outputs": [
        {
          "name": "stdout",
          "output_type": "stream",
          "text": [
            "Found 0 images belonging to 0 classes.\n",
            "Found 0 images belonging to 0 classes.\n"
          ]
        },
        {
          "ename": "ValueError",
          "evalue": "Unexpected value for `steps_per_epoch`. Received value is 0. Please check the docstring for `model.fit()` for supported values.",
          "output_type": "error",
          "traceback": [
            "\u001b[0;31m---------------------------------------------------------------------------\u001b[0m",
            "\u001b[0;31mValueError\u001b[0m                                Traceback (most recent call last)",
            "\u001b[0;32m<ipython-input-5-55a5e7ef4d9c>\u001b[0m in \u001b[0;36m<cell line: 50>\u001b[0;34m()\u001b[0m\n\u001b[1;32m     48\u001b[0m \u001b[0;31m# Train the model\u001b[0m\u001b[0;34m\u001b[0m\u001b[0;34m\u001b[0m\u001b[0m\n\u001b[1;32m     49\u001b[0m \u001b[0mepochs\u001b[0m \u001b[0;34m=\u001b[0m \u001b[0;36m10\u001b[0m  \u001b[0;31m# Adjust as needed\u001b[0m\u001b[0;34m\u001b[0m\u001b[0;34m\u001b[0m\u001b[0m\n\u001b[0;32m---> 50\u001b[0;31m history = model.fit(\n\u001b[0m\u001b[1;32m     51\u001b[0m     \u001b[0mtrain_generator\u001b[0m\u001b[0;34m,\u001b[0m\u001b[0;34m\u001b[0m\u001b[0;34m\u001b[0m\u001b[0m\n\u001b[1;32m     52\u001b[0m     \u001b[0msteps_per_epoch\u001b[0m\u001b[0;34m=\u001b[0m\u001b[0mtrain_generator\u001b[0m\u001b[0;34m.\u001b[0m\u001b[0msamples\u001b[0m \u001b[0;34m//\u001b[0m \u001b[0mbatch_size\u001b[0m\u001b[0;34m,\u001b[0m\u001b[0;34m\u001b[0m\u001b[0;34m\u001b[0m\u001b[0m\n",
            "\u001b[0;32m/usr/local/lib/python3.10/dist-packages/keras/src/utils/traceback_utils.py\u001b[0m in \u001b[0;36merror_handler\u001b[0;34m(*args, **kwargs)\u001b[0m\n\u001b[1;32m     68\u001b[0m             \u001b[0;31m# To get the full stack trace, call:\u001b[0m\u001b[0;34m\u001b[0m\u001b[0;34m\u001b[0m\u001b[0m\n\u001b[1;32m     69\u001b[0m             \u001b[0;31m# `tf.debugging.disable_traceback_filtering()`\u001b[0m\u001b[0;34m\u001b[0m\u001b[0;34m\u001b[0m\u001b[0m\n\u001b[0;32m---> 70\u001b[0;31m             \u001b[0;32mraise\u001b[0m \u001b[0me\u001b[0m\u001b[0;34m.\u001b[0m\u001b[0mwith_traceback\u001b[0m\u001b[0;34m(\u001b[0m\u001b[0mfiltered_tb\u001b[0m\u001b[0;34m)\u001b[0m \u001b[0;32mfrom\u001b[0m \u001b[0;32mNone\u001b[0m\u001b[0;34m\u001b[0m\u001b[0;34m\u001b[0m\u001b[0m\n\u001b[0m\u001b[1;32m     71\u001b[0m         \u001b[0;32mfinally\u001b[0m\u001b[0;34m:\u001b[0m\u001b[0;34m\u001b[0m\u001b[0;34m\u001b[0m\u001b[0m\n\u001b[1;32m     72\u001b[0m             \u001b[0;32mdel\u001b[0m \u001b[0mfiltered_tb\u001b[0m\u001b[0;34m\u001b[0m\u001b[0;34m\u001b[0m\u001b[0m\n",
            "\u001b[0;32m/usr/local/lib/python3.10/dist-packages/keras/src/engine/data_adapter.py\u001b[0m in \u001b[0;36m__init__\u001b[0;34m(self, x, y, sample_weight, batch_size, steps_per_epoch, initial_epoch, epochs, shuffle, class_weight, max_queue_size, workers, use_multiprocessing, model, steps_per_execution, distribute, pss_evaluation_shards)\u001b[0m\n\u001b[1;32m   1273\u001b[0m \u001b[0;34m\u001b[0m\u001b[0m\n\u001b[1;32m   1274\u001b[0m         \u001b[0;32mif\u001b[0m \u001b[0msteps_per_epoch\u001b[0m \u001b[0;34m==\u001b[0m \u001b[0;36m0\u001b[0m\u001b[0;34m:\u001b[0m\u001b[0;34m\u001b[0m\u001b[0;34m\u001b[0m\u001b[0m\n\u001b[0;32m-> 1275\u001b[0;31m             raise ValueError(\n\u001b[0m\u001b[1;32m   1276\u001b[0m                 \u001b[0;34m\"Unexpected value for `steps_per_epoch`. Received value is 0. \"\u001b[0m\u001b[0;34m\u001b[0m\u001b[0;34m\u001b[0m\u001b[0m\n\u001b[1;32m   1277\u001b[0m                 \u001b[0;34m\"Please check the docstring for `model.fit()` for supported \"\u001b[0m\u001b[0;34m\u001b[0m\u001b[0;34m\u001b[0m\u001b[0m\n",
            "\u001b[0;31mValueError\u001b[0m: Unexpected value for `steps_per_epoch`. Received value is 0. Please check the docstring for `model.fit()` for supported values."
          ]
        }
      ],
      "source": [
        "import os\n",
        "import numpy as np\n",
        "from tensorflow.keras import layers, models\n",
        "from tensorflow.keras.preprocessing.image import ImageDataGenerator\n",
        "\n",
        "# Path to the directory containing spectrogram images\n",
        "spectrogram_dir = '/content/drive/MyDrive/Final Year/Spectogram'\n",
        "\n",
        "# Specify input shape based on the size of your spectrogram images\n",
        "input_shape = (128, 431, 3)  # Adjust based on your spectrogram dimensions\n",
        "\n",
        "# Create a simple CNN model\n",
        "model = models.Sequential()\n",
        "model.add(layers.Conv2D(32, (3, 3), activation='relu', input_shape=input_shape))\n",
        "model.add(layers.MaxPooling2D((2, 2)))\n",
        "model.add(layers.Conv2D(64, (3, 3), activation='relu'))\n",
        "model.add(layers.MaxPooling2D((2, 2)))\n",
        "model.add(layers.Flatten())\n",
        "model.add(layers.Dense(64, activation='relu'))\n",
        "model.add(layers.Dense(7, activation='softmax'))  # num_classes is the number of emotion classes\n",
        "\n",
        "# Compile the model\n",
        "model.compile(optimizer='adam',\n",
        "              loss='categorical_crossentropy',\n",
        "              metrics=['accuracy'])\n",
        "\n",
        "# Create an ImageDataGenerator for data augmentation and normalization\n",
        "datagen = ImageDataGenerator(rescale=1./255, validation_split=0.2)\n",
        "\n",
        "# Generate training and validation datasets\n",
        "batch_size = 32\n",
        "train_generator = datagen.flow_from_directory(\n",
        "    spectrogram_dir,\n",
        "    target_size=(input_shape[0], input_shape[1]),\n",
        "    batch_size=batch_size,\n",
        "    class_mode='categorical',\n",
        "    subset='training'\n",
        ")\n",
        "\n",
        "validation_generator = datagen.flow_from_directory(\n",
        "    spectrogram_dir,\n",
        "    target_size=(input_shape[0], input_shape[1]),\n",
        "    batch_size=batch_size,\n",
        "    class_mode='categorical',\n",
        "    subset='validation'\n",
        ")\n",
        "\n",
        "# Train the model\n",
        "epochs = 10  # Adjust as needed\n",
        "history = model.fit(\n",
        "    train_generator,\n",
        "    steps_per_epoch=train_generator.samples // batch_size,\n",
        "    epochs=epochs,\n",
        "    validation_data=validation_generator,\n",
        "    validation_steps=validation_generator.samples // batch_size\n",
        ")\n",
        "\n",
        "# Save the trained model\n",
        "model.save('/content/drive/MyDrive/Final Year/emotion_model.h5')\n"
      ]
    },
    {
      "cell_type": "code",
      "execution_count": null,
      "metadata": {
        "colab": {
          "base_uri": "https://localhost:8080/",
          "height": 405
        },
        "id": "IxQZ_arRN7TU",
        "outputId": "103e712b-3df3-4b78-ab1f-46d867d001ce"
      },
      "outputs": [
        {
          "ename": "FileNotFoundError",
          "evalue": "[Errno 2] No such file or directory: '/content/drive/MyDrive/Final Year/Spectogram/train'",
          "output_type": "error",
          "traceback": [
            "\u001b[0;31m---------------------------------------------------------------------------\u001b[0m",
            "\u001b[0;31mFileNotFoundError\u001b[0m                         Traceback (most recent call last)",
            "\u001b[0;32m<ipython-input-6-e57f9abe2b0f>\u001b[0m in \u001b[0;36m<cell line: 26>\u001b[0;34m()\u001b[0m\n\u001b[1;32m     24\u001b[0m \u001b[0mimg_height\u001b[0m\u001b[0;34m,\u001b[0m \u001b[0mimg_width\u001b[0m \u001b[0;34m=\u001b[0m \u001b[0;36m224\u001b[0m\u001b[0;34m,\u001b[0m \u001b[0;36m224\u001b[0m\u001b[0;34m\u001b[0m\u001b[0;34m\u001b[0m\u001b[0m\n\u001b[1;32m     25\u001b[0m \u001b[0;34m\u001b[0m\u001b[0m\n\u001b[0;32m---> 26\u001b[0;31m train_generator = train_datagen.flow_from_directory(\n\u001b[0m\u001b[1;32m     27\u001b[0m     \u001b[0mtrain_dir\u001b[0m\u001b[0;34m,\u001b[0m\u001b[0;34m\u001b[0m\u001b[0;34m\u001b[0m\u001b[0m\n\u001b[1;32m     28\u001b[0m     \u001b[0mtarget_size\u001b[0m\u001b[0;34m=\u001b[0m\u001b[0;34m(\u001b[0m\u001b[0mimg_height\u001b[0m\u001b[0;34m,\u001b[0m \u001b[0mimg_width\u001b[0m\u001b[0;34m)\u001b[0m\u001b[0;34m,\u001b[0m\u001b[0;34m\u001b[0m\u001b[0;34m\u001b[0m\u001b[0m\n",
            "\u001b[0;32m/usr/local/lib/python3.10/dist-packages/keras/src/preprocessing/image.py\u001b[0m in \u001b[0;36mflow_from_directory\u001b[0;34m(self, directory, target_size, color_mode, classes, class_mode, batch_size, shuffle, seed, save_to_dir, save_prefix, save_format, follow_links, subset, interpolation, keep_aspect_ratio)\u001b[0m\n\u001b[1;32m   1647\u001b[0m             \u001b[0;32mand\u001b[0m\u001b[0;31m \u001b[0m\u001b[0;31m`\u001b[0m\u001b[0my\u001b[0m\u001b[0;31m`\u001b[0m \u001b[0;32mis\u001b[0m \u001b[0ma\u001b[0m \u001b[0mnumpy\u001b[0m \u001b[0marray\u001b[0m \u001b[0mof\u001b[0m \u001b[0mcorresponding\u001b[0m \u001b[0mlabels\u001b[0m\u001b[0;34m.\u001b[0m\u001b[0;34m\u001b[0m\u001b[0;34m\u001b[0m\u001b[0m\n\u001b[1;32m   1648\u001b[0m         \"\"\"\n\u001b[0;32m-> 1649\u001b[0;31m         return DirectoryIterator(\n\u001b[0m\u001b[1;32m   1650\u001b[0m             \u001b[0mdirectory\u001b[0m\u001b[0;34m,\u001b[0m\u001b[0;34m\u001b[0m\u001b[0;34m\u001b[0m\u001b[0m\n\u001b[1;32m   1651\u001b[0m             \u001b[0mself\u001b[0m\u001b[0;34m,\u001b[0m\u001b[0;34m\u001b[0m\u001b[0;34m\u001b[0m\u001b[0m\n",
            "\u001b[0;32m/usr/local/lib/python3.10/dist-packages/keras/src/preprocessing/image.py\u001b[0m in \u001b[0;36m__init__\u001b[0;34m(self, directory, image_data_generator, target_size, color_mode, classes, class_mode, batch_size, shuffle, seed, data_format, save_to_dir, save_prefix, save_format, follow_links, subset, interpolation, keep_aspect_ratio, dtype)\u001b[0m\n\u001b[1;32m    561\u001b[0m         \u001b[0;32mif\u001b[0m \u001b[0;32mnot\u001b[0m \u001b[0mclasses\u001b[0m\u001b[0;34m:\u001b[0m\u001b[0;34m\u001b[0m\u001b[0;34m\u001b[0m\u001b[0m\n\u001b[1;32m    562\u001b[0m             \u001b[0mclasses\u001b[0m \u001b[0;34m=\u001b[0m \u001b[0;34m[\u001b[0m\u001b[0;34m]\u001b[0m\u001b[0;34m\u001b[0m\u001b[0;34m\u001b[0m\u001b[0m\n\u001b[0;32m--> 563\u001b[0;31m             \u001b[0;32mfor\u001b[0m \u001b[0msubdir\u001b[0m \u001b[0;32min\u001b[0m \u001b[0msorted\u001b[0m\u001b[0;34m(\u001b[0m\u001b[0mos\u001b[0m\u001b[0;34m.\u001b[0m\u001b[0mlistdir\u001b[0m\u001b[0;34m(\u001b[0m\u001b[0mdirectory\u001b[0m\u001b[0;34m)\u001b[0m\u001b[0;34m)\u001b[0m\u001b[0;34m:\u001b[0m\u001b[0;34m\u001b[0m\u001b[0;34m\u001b[0m\u001b[0m\n\u001b[0m\u001b[1;32m    564\u001b[0m                 \u001b[0;32mif\u001b[0m \u001b[0mos\u001b[0m\u001b[0;34m.\u001b[0m\u001b[0mpath\u001b[0m\u001b[0;34m.\u001b[0m\u001b[0misdir\u001b[0m\u001b[0;34m(\u001b[0m\u001b[0mos\u001b[0m\u001b[0;34m.\u001b[0m\u001b[0mpath\u001b[0m\u001b[0;34m.\u001b[0m\u001b[0mjoin\u001b[0m\u001b[0;34m(\u001b[0m\u001b[0mdirectory\u001b[0m\u001b[0;34m,\u001b[0m \u001b[0msubdir\u001b[0m\u001b[0;34m)\u001b[0m\u001b[0;34m)\u001b[0m\u001b[0;34m:\u001b[0m\u001b[0;34m\u001b[0m\u001b[0;34m\u001b[0m\u001b[0m\n\u001b[1;32m    565\u001b[0m                     \u001b[0mclasses\u001b[0m\u001b[0;34m.\u001b[0m\u001b[0mappend\u001b[0m\u001b[0;34m(\u001b[0m\u001b[0msubdir\u001b[0m\u001b[0;34m)\u001b[0m\u001b[0;34m\u001b[0m\u001b[0;34m\u001b[0m\u001b[0m\n",
            "\u001b[0;31mFileNotFoundError\u001b[0m: [Errno 2] No such file or directory: '/content/drive/MyDrive/Final Year/Spectogram/train'"
          ]
        }
      ],
      "source": [
        "import os\n",
        "import random\n",
        "import numpy as np\n",
        "import tensorflow as tf\n",
        "from tensorflow.keras.preprocessing.image import ImageDataGenerator\n",
        "from tensorflow.keras.models import Sequential\n",
        "from tensorflow.keras.layers import Conv2D, MaxPooling2D, Flatten, Dense\n",
        "\n",
        "# Set random seed for reproducibility\n",
        "seed = 42\n",
        "tf.random.set_seed(seed)\n",
        "np.random.seed(seed)\n",
        "random.seed(seed)\n",
        "\n",
        "# Define paths\n",
        "train_dir = '/content/drive/MyDrive/Final Year/Spectogram/train'\n",
        "test_dir = '/content/drive/MyDrive/Final Year/Spectogram/test'\n",
        "\n",
        "# Image data generators for training and testing\n",
        "train_datagen = ImageDataGenerator(rescale=1./255, validation_split=0.2)\n",
        "test_datagen = ImageDataGenerator(rescale=1./255)\n",
        "\n",
        "batch_size = 32\n",
        "img_height, img_width = 224, 224\n",
        "\n",
        "train_generator = train_datagen.flow_from_directory(\n",
        "    train_dir,\n",
        "    target_size=(img_height, img_width),\n",
        "    batch_size=batch_size,\n",
        "    class_mode='binary',  # Change to 'categorical' if you have more than two classes\n",
        "    subset='training'\n",
        ")\n",
        "\n",
        "validation_generator = train_datagen.flow_from_directory(\n",
        "    train_dir,\n",
        "    target_size=(img_height, img_width),\n",
        "    batch_size=batch_size,\n",
        "    class_mode='binary',  # Change to 'categorical' if you have more than two classes\n",
        "    subset='validation'\n",
        ")\n",
        "\n",
        "test_generator = test_datagen.flow_from_directory(\n",
        "    test_dir,\n",
        "    target_size=(img_height, img_width),\n",
        "    batch_size=batch_size,\n",
        "    class_mode='binary',  # Change to 'categorical' if you have more than two classes\n",
        "    shuffle=False\n",
        ")\n",
        "\n",
        "# Define the model\n",
        "model = Sequential()\n",
        "model.add(Conv2D(32, (3, 3), activation='relu', input_shape=(img_height, img_width, 3)))\n",
        "model.add(MaxPooling2D((2, 2)))\n",
        "model.add(Conv2D(64, (3, 3), activation='relu'))\n",
        "model.add(MaxPooling2D((2, 2)))\n",
        "model.add(Conv2D(128, (3, 3), activation='relu'))\n",
        "model.add(MaxPooling2D((2, 2)))\n",
        "model.add(Flatten())\n",
        "model.add(Dense(128, activation='relu'))\n",
        "model.add(Dense(1, activation='sigmoid'))  # Change to the number of classes\n",
        "\n",
        "# Compile the model\n",
        "model.compile(optimizer='adam', loss='binary_crossentropy', metrics=['accuracy'])\n",
        "\n",
        "# Train the model\n",
        "epochs = 10\n",
        "history = model.fit(\n",
        "    train_generator,\n",
        "    steps_per_epoch=train_generator.samples // batch_size,\n",
        "    validation_data=validation_generator,\n",
        "    validation_steps=validation_generator.samples // batch_size,\n",
        "    epochs=epochs\n",
        ")\n",
        "\n",
        "# Evaluate the model on the test set\n",
        "test_loss, test_accuracy = model.evaluate(test_generator, steps=test_generator.samples // batch_size)\n",
        "print(f'Test Accuracy: {test_accuracy * 100:.2f}%')\n",
        "\n",
        "# Save the trained model\n",
        "model.save('/content/drive/MyDrive/Final Year/spectrogram_model.h5')\n"
      ]
    },
    {
      "cell_type": "code",
      "execution_count": null,
      "metadata": {
        "colab": {
          "base_uri": "https://localhost:8080/",
          "height": 405
        },
        "id": "vgmo35IzRW31",
        "outputId": "9dcb1457-6fe3-465b-fc2c-0a6500f75c8e"
      },
      "outputs": [
        {
          "ename": "ValueError",
          "evalue": "With n_samples=0, test_size=0.2 and train_size=None, the resulting train set will be empty. Adjust any of the aforementioned parameters.",
          "output_type": "error",
          "traceback": [
            "\u001b[0;31m---------------------------------------------------------------------------\u001b[0m",
            "\u001b[0;31mValueError\u001b[0m                                Traceback (most recent call last)",
            "\u001b[0;32m<ipython-input-7-76a8b6baa2c2>\u001b[0m in \u001b[0;36m<cell line: 32>\u001b[0;34m()\u001b[0m\n\u001b[1;32m     30\u001b[0m \u001b[0;34m\u001b[0m\u001b[0m\n\u001b[1;32m     31\u001b[0m \u001b[0;31m# Split data into training and testing sets\u001b[0m\u001b[0;34m\u001b[0m\u001b[0;34m\u001b[0m\u001b[0m\n\u001b[0;32m---> 32\u001b[0;31m \u001b[0mX_train\u001b[0m\u001b[0;34m,\u001b[0m \u001b[0mX_test\u001b[0m\u001b[0;34m,\u001b[0m \u001b[0my_train\u001b[0m\u001b[0;34m,\u001b[0m \u001b[0my_test\u001b[0m \u001b[0;34m=\u001b[0m \u001b[0mtrain_test_split\u001b[0m\u001b[0;34m(\u001b[0m\u001b[0mspectrograms\u001b[0m\u001b[0;34m,\u001b[0m \u001b[0mencoded_labels\u001b[0m\u001b[0;34m,\u001b[0m \u001b[0mtest_size\u001b[0m\u001b[0;34m=\u001b[0m\u001b[0;36m0.2\u001b[0m\u001b[0;34m,\u001b[0m \u001b[0mrandom_state\u001b[0m\u001b[0;34m=\u001b[0m\u001b[0;36m42\u001b[0m\u001b[0;34m)\u001b[0m\u001b[0;34m\u001b[0m\u001b[0;34m\u001b[0m\u001b[0m\n\u001b[0m\u001b[1;32m     33\u001b[0m \u001b[0;34m\u001b[0m\u001b[0m\n\u001b[1;32m     34\u001b[0m \u001b[0;31m# Define a simple CNN model\u001b[0m\u001b[0;34m\u001b[0m\u001b[0;34m\u001b[0m\u001b[0m\n",
            "\u001b[0;32m/usr/local/lib/python3.10/dist-packages/sklearn/model_selection/_split.py\u001b[0m in \u001b[0;36mtrain_test_split\u001b[0;34m(test_size, train_size, random_state, shuffle, stratify, *arrays)\u001b[0m\n\u001b[1;32m   2560\u001b[0m \u001b[0;34m\u001b[0m\u001b[0m\n\u001b[1;32m   2561\u001b[0m     \u001b[0mn_samples\u001b[0m \u001b[0;34m=\u001b[0m \u001b[0m_num_samples\u001b[0m\u001b[0;34m(\u001b[0m\u001b[0marrays\u001b[0m\u001b[0;34m[\u001b[0m\u001b[0;36m0\u001b[0m\u001b[0;34m]\u001b[0m\u001b[0;34m)\u001b[0m\u001b[0;34m\u001b[0m\u001b[0;34m\u001b[0m\u001b[0m\n\u001b[0;32m-> 2562\u001b[0;31m     n_train, n_test = _validate_shuffle_split(\n\u001b[0m\u001b[1;32m   2563\u001b[0m         \u001b[0mn_samples\u001b[0m\u001b[0;34m,\u001b[0m \u001b[0mtest_size\u001b[0m\u001b[0;34m,\u001b[0m \u001b[0mtrain_size\u001b[0m\u001b[0;34m,\u001b[0m \u001b[0mdefault_test_size\u001b[0m\u001b[0;34m=\u001b[0m\u001b[0;36m0.25\u001b[0m\u001b[0;34m\u001b[0m\u001b[0;34m\u001b[0m\u001b[0m\n\u001b[1;32m   2564\u001b[0m     )\n",
            "\u001b[0;32m/usr/local/lib/python3.10/dist-packages/sklearn/model_selection/_split.py\u001b[0m in \u001b[0;36m_validate_shuffle_split\u001b[0;34m(n_samples, test_size, train_size, default_test_size)\u001b[0m\n\u001b[1;32m   2234\u001b[0m \u001b[0;34m\u001b[0m\u001b[0m\n\u001b[1;32m   2235\u001b[0m     \u001b[0;32mif\u001b[0m \u001b[0mn_train\u001b[0m \u001b[0;34m==\u001b[0m \u001b[0;36m0\u001b[0m\u001b[0;34m:\u001b[0m\u001b[0;34m\u001b[0m\u001b[0;34m\u001b[0m\u001b[0m\n\u001b[0;32m-> 2236\u001b[0;31m         raise ValueError(\n\u001b[0m\u001b[1;32m   2237\u001b[0m             \u001b[0;34m\"With n_samples={}, test_size={} and train_size={}, the \"\u001b[0m\u001b[0;34m\u001b[0m\u001b[0;34m\u001b[0m\u001b[0m\n\u001b[1;32m   2238\u001b[0m             \u001b[0;34m\"resulting train set will be empty. Adjust any of the \"\u001b[0m\u001b[0;34m\u001b[0m\u001b[0;34m\u001b[0m\u001b[0m\n",
            "\u001b[0;31mValueError\u001b[0m: With n_samples=0, test_size=0.2 and train_size=None, the resulting train set will be empty. Adjust any of the aforementioned parameters."
          ]
        }
      ],
      "source": [
        "import os\n",
        "import numpy as np\n",
        "import tensorflow as tf\n",
        "from tensorflow.keras import layers, models\n",
        "from sklearn.model_selection import train_test_split\n",
        "from sklearn.preprocessing import LabelEncoder\n",
        "\n",
        "# Function to load spectrogram images and labels\n",
        "def load_data(data_dir):\n",
        "    spectrograms = []\n",
        "    labels = []\n",
        "\n",
        "    for label in os.listdir(data_dir):\n",
        "        label_path = os.path.join(data_dir, label)\n",
        "        if os.path.isdir(label_path):\n",
        "            for file in os.listdir(label_path):\n",
        "                if file.endswith('_spectrogram.png'):\n",
        "                    img_path = os.path.join(label_path, file)\n",
        "                    spectrograms.append(img_path)\n",
        "                    labels.append(label)\n",
        "\n",
        "    return spectrograms, labels\n",
        "\n",
        "# Load spectrogram data and labels\n",
        "spectrograms, labels = load_data('/content/drive/MyDrive/Final Year/Spectogram')\n",
        "\n",
        "# Encode labels\n",
        "label_encoder = LabelEncoder()\n",
        "encoded_labels = label_encoder.fit_transform(labels)\n",
        "\n",
        "# Split data into training and testing sets\n",
        "X_train, X_test, y_train, y_test = train_test_split(spectrograms, encoded_labels, test_size=0.2, random_state=42)\n",
        "\n",
        "# Define a simple CNN model\n",
        "model = models.Sequential([\n",
        "    layers.Conv2D(32, (3, 3), activation='relu', input_shape=(128, 431, 3)),\n",
        "    layers.MaxPooling2D((2, 2)),\n",
        "    layers.Flatten(),\n",
        "    layers.Dense(64, activation='relu'),\n",
        "    layers.Dense(len(np.unique(encoded_labels)), activation='softmax')\n",
        "])\n",
        "\n",
        "# Compile the model\n",
        "model.compile(optimizer='adam',\n",
        "              loss='sparse_categorical_crossentropy',\n",
        "              metrics=['accuracy'])\n",
        "\n",
        "# Function to load and preprocess images for training/testing\n",
        "def preprocess_images(image_paths, labels):\n",
        "    images = []\n",
        "    for path in image_paths:\n",
        "        img = tf.keras.preprocessing.image.load_img(path, target_size=(128, 431))\n",
        "        img_array = tf.keras.preprocessing.image.img_to_array(img)\n",
        "        images.append(img_array)\n",
        "\n",
        "    images = np.array(images)\n",
        "    labels = np.array(labels)\n",
        "\n",
        "    return images, labels\n",
        "\n",
        "# Preprocess training and testing images\n",
        "X_train_processed, y_train_processed = preprocess_images(X_train, y_train)\n",
        "X_test_processed, y_test_processed = preprocess_images(X_test, y_test)\n",
        "\n",
        "# Train the model\n",
        "model.fit(X_train_processed, y_train_processed, epochs=10, validation_data=(X_test_processed, y_test_processed))\n",
        "\n",
        "# Evaluate the model on the test set\n",
        "test_loss, test_acc = model.evaluate(X_test_processed, y_test_processed, verbose=2)\n",
        "print('\\nTest accuracy:', test_acc)\n"
      ]
    },
    {
      "cell_type": "code",
      "execution_count": null,
      "metadata": {
        "colab": {
          "base_uri": "https://localhost:8080/",
          "height": 459
        },
        "id": "OTXC2nbQSRFb",
        "outputId": "54a52498-b87a-46d2-bbd3-b2b999fa9bf9"
      },
      "outputs": [
        {
          "name": "stdout",
          "output_type": "stream",
          "text": [
            "Number of spectrograms: 0\n",
            "Number of labels: 0\n",
            "Encoded labels: []\n"
          ]
        },
        {
          "ename": "ValueError",
          "evalue": "With n_samples=0, test_size=0.2 and train_size=None, the resulting train set will be empty. Adjust any of the aforementioned parameters.",
          "output_type": "error",
          "traceback": [
            "\u001b[0;31m---------------------------------------------------------------------------\u001b[0m",
            "\u001b[0;31mValueError\u001b[0m                                Traceback (most recent call last)",
            "\u001b[0;32m<ipython-input-8-3a1f03b76a83>\u001b[0m in \u001b[0;36m<cell line: 16>\u001b[0;34m()\u001b[0m\n\u001b[1;32m     14\u001b[0m \u001b[0;34m\u001b[0m\u001b[0m\n\u001b[1;32m     15\u001b[0m \u001b[0;31m# Split data into training and testing sets\u001b[0m\u001b[0;34m\u001b[0m\u001b[0;34m\u001b[0m\u001b[0m\n\u001b[0;32m---> 16\u001b[0;31m \u001b[0mX_train\u001b[0m\u001b[0;34m,\u001b[0m \u001b[0mX_test\u001b[0m\u001b[0;34m,\u001b[0m \u001b[0my_train\u001b[0m\u001b[0;34m,\u001b[0m \u001b[0my_test\u001b[0m \u001b[0;34m=\u001b[0m \u001b[0mtrain_test_split\u001b[0m\u001b[0;34m(\u001b[0m\u001b[0mspectrograms\u001b[0m\u001b[0;34m,\u001b[0m \u001b[0mencoded_labels\u001b[0m\u001b[0;34m,\u001b[0m \u001b[0mtest_size\u001b[0m\u001b[0;34m=\u001b[0m\u001b[0;36m0.2\u001b[0m\u001b[0;34m,\u001b[0m \u001b[0mrandom_state\u001b[0m\u001b[0;34m=\u001b[0m\u001b[0;36m42\u001b[0m\u001b[0;34m)\u001b[0m\u001b[0;34m\u001b[0m\u001b[0;34m\u001b[0m\u001b[0m\n\u001b[0m\u001b[1;32m     17\u001b[0m \u001b[0;34m\u001b[0m\u001b[0m\n\u001b[1;32m     18\u001b[0m \u001b[0;31m# Check the sizes of the training and testing sets\u001b[0m\u001b[0;34m\u001b[0m\u001b[0;34m\u001b[0m\u001b[0m\n",
            "\u001b[0;32m/usr/local/lib/python3.10/dist-packages/sklearn/model_selection/_split.py\u001b[0m in \u001b[0;36mtrain_test_split\u001b[0;34m(test_size, train_size, random_state, shuffle, stratify, *arrays)\u001b[0m\n\u001b[1;32m   2560\u001b[0m \u001b[0;34m\u001b[0m\u001b[0m\n\u001b[1;32m   2561\u001b[0m     \u001b[0mn_samples\u001b[0m \u001b[0;34m=\u001b[0m \u001b[0m_num_samples\u001b[0m\u001b[0;34m(\u001b[0m\u001b[0marrays\u001b[0m\u001b[0;34m[\u001b[0m\u001b[0;36m0\u001b[0m\u001b[0;34m]\u001b[0m\u001b[0;34m)\u001b[0m\u001b[0;34m\u001b[0m\u001b[0;34m\u001b[0m\u001b[0m\n\u001b[0;32m-> 2562\u001b[0;31m     n_train, n_test = _validate_shuffle_split(\n\u001b[0m\u001b[1;32m   2563\u001b[0m         \u001b[0mn_samples\u001b[0m\u001b[0;34m,\u001b[0m \u001b[0mtest_size\u001b[0m\u001b[0;34m,\u001b[0m \u001b[0mtrain_size\u001b[0m\u001b[0;34m,\u001b[0m \u001b[0mdefault_test_size\u001b[0m\u001b[0;34m=\u001b[0m\u001b[0;36m0.25\u001b[0m\u001b[0;34m\u001b[0m\u001b[0;34m\u001b[0m\u001b[0m\n\u001b[1;32m   2564\u001b[0m     )\n",
            "\u001b[0;32m/usr/local/lib/python3.10/dist-packages/sklearn/model_selection/_split.py\u001b[0m in \u001b[0;36m_validate_shuffle_split\u001b[0;34m(n_samples, test_size, train_size, default_test_size)\u001b[0m\n\u001b[1;32m   2234\u001b[0m \u001b[0;34m\u001b[0m\u001b[0m\n\u001b[1;32m   2235\u001b[0m     \u001b[0;32mif\u001b[0m \u001b[0mn_train\u001b[0m \u001b[0;34m==\u001b[0m \u001b[0;36m0\u001b[0m\u001b[0;34m:\u001b[0m\u001b[0;34m\u001b[0m\u001b[0;34m\u001b[0m\u001b[0m\n\u001b[0;32m-> 2236\u001b[0;31m         raise ValueError(\n\u001b[0m\u001b[1;32m   2237\u001b[0m             \u001b[0;34m\"With n_samples={}, test_size={} and train_size={}, the \"\u001b[0m\u001b[0;34m\u001b[0m\u001b[0;34m\u001b[0m\u001b[0m\n\u001b[1;32m   2238\u001b[0m             \u001b[0;34m\"resulting train set will be empty. Adjust any of the \"\u001b[0m\u001b[0;34m\u001b[0m\u001b[0;34m\u001b[0m\u001b[0m\n",
            "\u001b[0;31mValueError\u001b[0m: With n_samples=0, test_size=0.2 and train_size=None, the resulting train set will be empty. Adjust any of the aforementioned parameters."
          ]
        }
      ],
      "source": [
        "# Load spectrogram data and labels\n",
        "spectrograms, labels = load_data('/content/drive/MyDrive/Final Year/Spectogram')\n",
        "\n",
        "# Check if the data is loaded correctly\n",
        "print(\"Number of spectrograms:\", len(spectrograms))\n",
        "print(\"Number of labels:\", len(labels))\n",
        "\n",
        "# Encode labels\n",
        "label_encoder = LabelEncoder()\n",
        "encoded_labels = label_encoder.fit_transform(labels)\n",
        "\n",
        "# Check if labels are encoded correctly\n",
        "print(\"Encoded labels:\", encoded_labels)\n",
        "\n",
        "# Split data into training and testing sets\n",
        "X_train, X_test, y_train, y_test = train_test_split(spectrograms, encoded_labels, test_size=0.2, random_state=42)\n",
        "\n",
        "# Check the sizes of the training and testing sets\n",
        "print(\"Training set size:\", len(X_train))\n",
        "print(\"Testing set size:\", len(X_test))\n"
      ]
    },
    {
      "cell_type": "code",
      "execution_count": null,
      "metadata": {
        "colab": {
          "base_uri": "https://localhost:8080/"
        },
        "id": "r5JiXKKSSnPE",
        "outputId": "2b4d7012-a825-4046-fbbd-354f6cd8c745"
      },
      "outputs": [
        {
          "name": "stdout",
          "output_type": "stream",
          "text": [
            "Skipping file: /content/drive/MyDrive/Final Year/Spectogram/OAF_OAF_rush_fear_spectrogram.png. Not a valid image.\n",
            "Skipping file: /content/drive/MyDrive/Final Year/Spectogram/YAF_sour_disgust_spectrogram.png. Not a valid image.\n",
            "Epoch 1/10\n",
            "139/139 [==============================] - 152s 1s/step - loss: 150.1404 - accuracy: 0.9405 - val_loss: 8.0747 - val_accuracy: 0.9991\n",
            "Epoch 2/10\n",
            "139/139 [==============================] - 151s 1s/step - loss: 1.9884 - accuracy: 0.9993 - val_loss: 4.4729 - val_accuracy: 0.9991\n",
            "Epoch 3/10\n",
            "139/139 [==============================] - 157s 1s/step - loss: 0.9341 - accuracy: 0.9995 - val_loss: 1.5971 - val_accuracy: 0.9991\n",
            "Epoch 4/10\n",
            "139/139 [==============================] - 155s 1s/step - loss: 0.4965 - accuracy: 0.9993 - val_loss: 1.3525 - val_accuracy: 0.9991\n",
            "Epoch 5/10\n",
            "139/139 [==============================] - 153s 1s/step - loss: 0.1453 - accuracy: 0.9991 - val_loss: 1.3575 - val_accuracy: 0.9991\n",
            "Epoch 6/10\n",
            "139/139 [==============================] - 154s 1s/step - loss: 0.2764 - accuracy: 0.9995 - val_loss: 0.0000e+00 - val_accuracy: 1.0000\n",
            "Epoch 7/10\n",
            "139/139 [==============================] - 154s 1s/step - loss: 0.0000e+00 - accuracy: 1.0000 - val_loss: 0.0000e+00 - val_accuracy: 1.0000\n",
            "Epoch 8/10\n",
            "139/139 [==============================] - 153s 1s/step - loss: 0.0000e+00 - accuracy: 1.0000 - val_loss: 0.0000e+00 - val_accuracy: 1.0000\n",
            "Epoch 9/10\n",
            "139/139 [==============================] - 150s 1s/step - loss: 0.0000e+00 - accuracy: 1.0000 - val_loss: 0.0000e+00 - val_accuracy: 1.0000\n",
            "Epoch 10/10\n",
            "139/139 [==============================] - 151s 1s/step - loss: 0.0000e+00 - accuracy: 1.0000 - val_loss: 0.0000e+00 - val_accuracy: 1.0000\n",
            "35/35 [==============================] - 10s 275ms/step - loss: 0.0000e+00 - accuracy: 1.0000\n",
            "Test accuracy: 100.00%\n"
          ]
        }
      ],
      "source": [
        "import os\n",
        "import numpy as np\n",
        "from sklearn.model_selection import train_test_split\n",
        "from sklearn.preprocessing import LabelEncoder\n",
        "from tensorflow import keras\n",
        "from tensorflow.keras import layers\n",
        "\n",
        "# Path to the directory containing the spectrograms\n",
        "spectrogram_dir = '/content/drive/MyDrive/Final Year/Spectogram'\n",
        "\n",
        "# Function to load spectrograms and labels\n",
        "from PIL import UnidentifiedImageError\n",
        "\n",
        "def load_data():\n",
        "    spectrograms = []\n",
        "    labels = []\n",
        "\n",
        "    for file in os.listdir(spectrogram_dir):\n",
        "        file_path = os.path.join(spectrogram_dir, file)\n",
        "\n",
        "        try:\n",
        "            # Load spectrogram as an image\n",
        "            spectrogram = keras.preprocessing.image.load_img(file_path, target_size=(128, 256))\n",
        "            spectrogram_array = keras.preprocessing.image.img_to_array(spectrogram)\n",
        "            spectrograms.append(spectrogram_array)\n",
        "\n",
        "            # Extract label from the file name\n",
        "            labels.append(file.split('_')[0])\n",
        "        except UnidentifiedImageError:\n",
        "            print(f\"Skipping file: {file_path}. Not a valid image.\")\n",
        "\n",
        "    return np.array(spectrograms), np.array(labels)\n",
        "\n",
        "# Load data\n",
        "spectrograms, labels = load_data()\n",
        "\n",
        "# Encode labels\n",
        "label_encoder = LabelEncoder()\n",
        "encoded_labels = label_encoder.fit_transform(labels)\n",
        "\n",
        "# Split data into train and test sets\n",
        "X_train, X_test, y_train, y_test = train_test_split(spectrograms, encoded_labels, test_size=0.2, random_state=42)\n",
        "\n",
        "# Define the neural network model\n",
        "model = keras.Sequential([\n",
        "    layers.Conv2D(32, (3, 3), activation='relu', input_shape=(128, 256, 3)),\n",
        "    layers.MaxPooling2D((2, 2)),\n",
        "    layers.Flatten(),\n",
        "    layers.Dense(64, activation='relu'),\n",
        "    layers.Dense(len(label_encoder.classes_), activation='softmax')\n",
        "])\n",
        "\n",
        "# Compile the model\n",
        "model.compile(optimizer='adam', loss='sparse_categorical_crossentropy', metrics=['accuracy'])\n",
        "\n",
        "# Train the model\n",
        "model.fit(X_train, y_train, epochs=10, validation_data=(X_test, y_test))\n",
        "\n",
        "# Evaluate the model on the test set\n",
        "test_loss, test_acc = model.evaluate(X_test, y_test)\n",
        "print(f'Test accuracy: {test_acc * 100:.2f}%')\n"
      ]
    },
    {
      "cell_type": "code",
      "execution_count": null,
      "metadata": {
        "colab": {
          "base_uri": "https://localhost:8080/"
        },
        "id": "_0jLVK2ak2Eg",
        "outputId": "f0bf63e0-f265-4f46-b1ca-8fa4ef7abaed"
      },
      "outputs": [
        {
          "name": "stderr",
          "output_type": "stream",
          "text": [
            "/usr/local/lib/python3.10/dist-packages/keras/src/engine/training.py:3103: UserWarning: You are saving your model as an HDF5 file via `model.save()`. This file format is considered legacy. We recommend using instead the native Keras format, e.g. `model.save('my_model.keras')`.\n",
            "  saving_api.save_model(\n"
          ]
        }
      ],
      "source": [
        "model.save(\"/content/drive/MyDrive/RecognitionModelcnn.h5\")"
      ]
    },
    {
      "cell_type": "code",
      "execution_count": null,
      "metadata": {
        "colab": {
          "base_uri": "https://localhost:8080/"
        },
        "id": "z2eG3Rd4Uldi",
        "outputId": "9fc245be-bba5-4623-d97d-0149178f88d6"
      },
      "outputs": [
        {
          "name": "stdout",
          "output_type": "stream",
          "text": [
            "1/1 [==============================] - 0s 88ms/step\n",
            "Predicted Emotion: OAF\n"
          ]
        }
      ],
      "source": [
        "import os\n",
        "import librosa\n",
        "import numpy as np\n",
        "import librosa.display\n",
        "import matplotlib.pyplot as plt\n",
        "from tensorflow import keras\n",
        "\n",
        "# Function to preprocess the spectrogram\n",
        "def preprocess_spectrogram(file_path):\n",
        "    # Load audio file\n",
        "    audio_data, sr = librosa.load(file_path)\n",
        "\n",
        "    # Generate spectrogram\n",
        "    spectrogram = librosa.feature.melspectrogram(y=audio_data, sr=sr)\n",
        "    spectrogram_db = librosa.power_to_db(spectrogram, ref=np.max)\n",
        "\n",
        "    # Resize spectrogram to match the input shape of the model (128, 256)\n",
        "    spectrogram_resized = np.resize(spectrogram_db, (128, 256))\n",
        "\n",
        "    # Normalize the spectrogram\n",
        "    spectrogram_normalized = (spectrogram_resized - np.min(spectrogram_resized)) / (\n",
        "            np.max(spectrogram_resized) - np.min(spectrogram_resized))\n",
        "\n",
        "    # Create an input with three channels\n",
        "    spectrogram_input = np.stack([spectrogram_normalized] * 3, axis=-1)\n",
        "\n",
        "    return spectrogram_input\n",
        "\n",
        "# Function to predict emotion from audio file\n",
        "def predict_emotion(audio_path, model, label_encoder):\n",
        "    # Preprocess the spectrogram\n",
        "    spectrogram_input = preprocess_spectrogram(audio_path)\n",
        "\n",
        "    # Make prediction using the trained model\n",
        "    prediction_probabilities = model.predict(np.expand_dims(spectrogram_input, axis=0))[0]\n",
        "\n",
        "    # Get the predicted label\n",
        "    predicted_label_index = np.argmax(prediction_probabilities)\n",
        "    predicted_label = label_encoder.classes_[predicted_label_index]\n",
        "\n",
        "    return predicted_label\n",
        "\n",
        "# Path to the trained model\n",
        "model_path = '/content/drive/MyDrive/RecognitionModelcnn.h5'  # Update this path to the location of your trained model\n",
        "\n",
        "# Load the trained model\n",
        "model = keras.models.load_model(model_path)\n",
        "\n",
        "# Path to the audio file you want to predict\n",
        "audio_path_to_predict = '/content/drive/MyDrive/Final Year/happy.wav'  # Update this path to the location of your new audio file\n",
        "\n",
        "# Predict emotion\n",
        "predicted_emotion = predict_emotion(audio_path_to_predict, model, label_encoder)\n",
        "\n",
        "# Display the predicted emotion\n",
        "print(f'Predicted Emotion: {predicted_emotion}')\n"
      ]
    },
    {
      "cell_type": "code",
      "execution_count": null,
      "metadata": {
        "colab": {
          "base_uri": "https://localhost:8080/"
        },
        "id": "3iYY_f3kgERg",
        "outputId": "d925bfa4-fc1f-4a02-b157-a000b144dcfe"
      },
      "outputs": [
        {
          "name": "stdout",
          "output_type": "stream",
          "text": [
            "Collecting resampy\n",
            "  Downloading resampy-0.4.2-py3-none-any.whl (3.1 MB)\n",
            "\u001b[2K     \u001b[90m━━━━━━━━━━━━━━━━━━━━━━━━━━━━━━━━━━━━━━━━\u001b[0m \u001b[32m3.1/3.1 MB\u001b[0m \u001b[31m13.3 MB/s\u001b[0m eta \u001b[36m0:00:00\u001b[0m\n",
            "\u001b[?25hRequirement already satisfied: numpy>=1.17 in /usr/local/lib/python3.10/dist-packages (from resampy) (1.25.2)\n",
            "Requirement already satisfied: numba>=0.53 in /usr/local/lib/python3.10/dist-packages (from resampy) (0.58.1)\n",
            "Requirement already satisfied: llvmlite<0.42,>=0.41.0dev0 in /usr/local/lib/python3.10/dist-packages (from numba>=0.53->resampy) (0.41.1)\n",
            "Installing collected packages: resampy\n",
            "Successfully installed resampy-0.4.2\n"
          ]
        }
      ],
      "source": [
        "!pip install resampy\n"
      ]
    },
    {
      "cell_type": "code",
      "execution_count": null,
      "metadata": {
        "colab": {
          "base_uri": "https://localhost:8080/",
          "height": 805
        },
        "id": "hIX6pUtEhI5E",
        "outputId": "1fcb504b-50b6-4640-d8be-a3d1da8c6705"
      },
      "outputs": [
        {
          "name": "stdout",
          "output_type": "stream",
          "text": [
            "Found existing installation: librosa 0.10.1\n",
            "Uninstalling librosa-0.10.1:\n",
            "  Successfully uninstalled librosa-0.10.1\n",
            "Found existing installation: resampy 0.4.2\n",
            "Uninstalling resampy-0.4.2:\n",
            "  Successfully uninstalled resampy-0.4.2\n",
            "Collecting librosa\n",
            "  Downloading librosa-0.10.1-py3-none-any.whl (253 kB)\n",
            "\u001b[2K     \u001b[90m━━━━━━━━━━━━━━━━━━━━━━━━━━━━━━━━━━━━━━━━\u001b[0m \u001b[32m253.7/253.7 kB\u001b[0m \u001b[31m4.1 MB/s\u001b[0m eta \u001b[36m0:00:00\u001b[0m\n",
            "\u001b[?25hCollecting resampy\n",
            "  Using cached resampy-0.4.2-py3-none-any.whl (3.1 MB)\n",
            "Requirement already satisfied: audioread>=2.1.9 in /usr/local/lib/python3.10/dist-packages (from librosa) (3.0.1)\n",
            "Requirement already satisfied: numpy!=1.22.0,!=1.22.1,!=1.22.2,>=1.20.3 in /usr/local/lib/python3.10/dist-packages (from librosa) (1.25.2)\n",
            "Requirement already satisfied: scipy>=1.2.0 in /usr/local/lib/python3.10/dist-packages (from librosa) (1.11.4)\n",
            "Requirement already satisfied: scikit-learn>=0.20.0 in /usr/local/lib/python3.10/dist-packages (from librosa) (1.2.2)\n",
            "Requirement already satisfied: joblib>=0.14 in /usr/local/lib/python3.10/dist-packages (from librosa) (1.3.2)\n",
            "Requirement already satisfied: decorator>=4.3.0 in /usr/local/lib/python3.10/dist-packages (from librosa) (4.4.2)\n",
            "Requirement already satisfied: numba>=0.51.0 in /usr/local/lib/python3.10/dist-packages (from librosa) (0.58.1)\n",
            "Requirement already satisfied: soundfile>=0.12.1 in /usr/local/lib/python3.10/dist-packages (from librosa) (0.12.1)\n",
            "Requirement already satisfied: pooch>=1.0 in /usr/local/lib/python3.10/dist-packages (from librosa) (1.8.0)\n",
            "Requirement already satisfied: soxr>=0.3.2 in /usr/local/lib/python3.10/dist-packages (from librosa) (0.3.7)\n",
            "Requirement already satisfied: typing-extensions>=4.1.1 in /usr/local/lib/python3.10/dist-packages (from librosa) (4.9.0)\n",
            "Requirement already satisfied: lazy-loader>=0.1 in /usr/local/lib/python3.10/dist-packages (from librosa) (0.3)\n",
            "Requirement already satisfied: msgpack>=1.0 in /usr/local/lib/python3.10/dist-packages (from librosa) (1.0.7)\n",
            "Requirement already satisfied: llvmlite<0.42,>=0.41.0dev0 in /usr/local/lib/python3.10/dist-packages (from numba>=0.51.0->librosa) (0.41.1)\n",
            "Requirement already satisfied: platformdirs>=2.5.0 in /usr/local/lib/python3.10/dist-packages (from pooch>=1.0->librosa) (4.2.0)\n",
            "Requirement already satisfied: packaging>=20.0 in /usr/local/lib/python3.10/dist-packages (from pooch>=1.0->librosa) (23.2)\n",
            "Requirement already satisfied: requests>=2.19.0 in /usr/local/lib/python3.10/dist-packages (from pooch>=1.0->librosa) (2.31.0)\n",
            "Requirement already satisfied: threadpoolctl>=2.0.0 in /usr/local/lib/python3.10/dist-packages (from scikit-learn>=0.20.0->librosa) (3.2.0)\n",
            "Requirement already satisfied: cffi>=1.0 in /usr/local/lib/python3.10/dist-packages (from soundfile>=0.12.1->librosa) (1.16.0)\n",
            "Requirement already satisfied: pycparser in /usr/local/lib/python3.10/dist-packages (from cffi>=1.0->soundfile>=0.12.1->librosa) (2.21)\n",
            "Requirement already satisfied: charset-normalizer<4,>=2 in /usr/local/lib/python3.10/dist-packages (from requests>=2.19.0->pooch>=1.0->librosa) (3.3.2)\n",
            "Requirement already satisfied: idna<4,>=2.5 in /usr/local/lib/python3.10/dist-packages (from requests>=2.19.0->pooch>=1.0->librosa) (3.6)\n",
            "Requirement already satisfied: urllib3<3,>=1.21.1 in /usr/local/lib/python3.10/dist-packages (from requests>=2.19.0->pooch>=1.0->librosa) (2.0.7)\n",
            "Requirement already satisfied: certifi>=2017.4.17 in /usr/local/lib/python3.10/dist-packages (from requests>=2.19.0->pooch>=1.0->librosa) (2024.2.2)\n",
            "Installing collected packages: resampy, librosa\n",
            "Successfully installed librosa-0.10.1 resampy-0.4.2\n"
          ]
        },
        {
          "data": {
            "application/vnd.colab-display-data+json": {
              "pip_warning": {
                "packages": [
                  "librosa",
                  "resampy"
                ]
              }
            }
          },
          "metadata": {},
          "output_type": "display_data"
        }
      ],
      "source": [
        "!pip uninstall librosa resampy -y\n",
        "!pip install librosa resampy"
      ]
    },
    {
      "cell_type": "code",
      "execution_count": null,
      "metadata": {
        "colab": {
          "base_uri": "https://localhost:8080/",
          "height": 387
        },
        "id": "ljayfc41hXQf",
        "outputId": "de1b4be1-02a2-4ef7-e838-031fd604200f"
      },
      "outputs": [
        {
          "ename": "ValueError",
          "evalue": "Expected an image array with shape `(height, width, channels)`, or `(batch_size, height, width, channels)`, but got input with incorrect rank, of shape (128, 111).",
          "output_type": "error",
          "traceback": [
            "\u001b[0;31m---------------------------------------------------------------------------\u001b[0m",
            "\u001b[0;31mValueError\u001b[0m                                Traceback (most recent call last)",
            "\u001b[0;32m<ipython-input-24-a6c759ea946e>\u001b[0m in \u001b[0;36m<cell line: 53>\u001b[0;34m()\u001b[0m\n\u001b[1;32m     51\u001b[0m \u001b[0;31m# Example usage for prediction\u001b[0m\u001b[0;34m\u001b[0m\u001b[0;34m\u001b[0m\u001b[0m\n\u001b[1;32m     52\u001b[0m \u001b[0maudio_file_path\u001b[0m \u001b[0;34m=\u001b[0m \u001b[0;34m'/content/drive/MyDrive/TESS Toronto emotional speech set data/OAF_Sad/OAF_back_sad.wav'\u001b[0m\u001b[0;34m\u001b[0m\u001b[0;34m\u001b[0m\u001b[0m\n\u001b[0;32m---> 53\u001b[0;31m \u001b[0mpredicted_emotion\u001b[0m \u001b[0;34m=\u001b[0m \u001b[0mpredict_emotion\u001b[0m\u001b[0;34m(\u001b[0m\u001b[0maudio_file_path\u001b[0m\u001b[0;34m,\u001b[0m \u001b[0mmodel\u001b[0m\u001b[0;34m,\u001b[0m \u001b[0mlabel_encoder\u001b[0m\u001b[0;34m)\u001b[0m\u001b[0;34m\u001b[0m\u001b[0;34m\u001b[0m\u001b[0m\n\u001b[0m\u001b[1;32m     54\u001b[0m \u001b[0;34m\u001b[0m\u001b[0m\n\u001b[1;32m     55\u001b[0m \u001b[0mprint\u001b[0m\u001b[0;34m(\u001b[0m\u001b[0;34mf\"Predicted Emotion: {predicted_emotion}\"\u001b[0m\u001b[0;34m)\u001b[0m\u001b[0;34m\u001b[0m\u001b[0;34m\u001b[0m\u001b[0m\n",
            "\u001b[0;32m<ipython-input-24-a6c759ea946e>\u001b[0m in \u001b[0;36mpredict_emotion\u001b[0;34m(audio_file_path, model, label_encoder)\u001b[0m\n\u001b[1;32m     38\u001b[0m \u001b[0;32mdef\u001b[0m \u001b[0mpredict_emotion\u001b[0m\u001b[0;34m(\u001b[0m\u001b[0maudio_file_path\u001b[0m\u001b[0;34m,\u001b[0m \u001b[0mmodel\u001b[0m\u001b[0;34m,\u001b[0m \u001b[0mlabel_encoder\u001b[0m\u001b[0;34m)\u001b[0m\u001b[0;34m:\u001b[0m\u001b[0;34m\u001b[0m\u001b[0;34m\u001b[0m\u001b[0m\n\u001b[1;32m     39\u001b[0m     \u001b[0;31m# Preprocess audio for prediction\u001b[0m\u001b[0;34m\u001b[0m\u001b[0;34m\u001b[0m\u001b[0m\n\u001b[0;32m---> 40\u001b[0;31m     \u001b[0mpreprocessed_spectrogram\u001b[0m \u001b[0;34m=\u001b[0m \u001b[0mpreprocess_audio_for_prediction\u001b[0m\u001b[0;34m(\u001b[0m\u001b[0maudio_file_path\u001b[0m\u001b[0;34m)\u001b[0m\u001b[0;34m\u001b[0m\u001b[0;34m\u001b[0m\u001b[0m\n\u001b[0m\u001b[1;32m     41\u001b[0m \u001b[0;34m\u001b[0m\u001b[0m\n\u001b[1;32m     42\u001b[0m     \u001b[0;31m# Make the prediction\u001b[0m\u001b[0;34m\u001b[0m\u001b[0;34m\u001b[0m\u001b[0m\n",
            "\u001b[0;32m<ipython-input-24-a6c759ea946e>\u001b[0m in \u001b[0;36mpreprocess_audio_for_prediction\u001b[0;34m(file_path)\u001b[0m\n\u001b[1;32m     25\u001b[0m \u001b[0;34m\u001b[0m\u001b[0m\n\u001b[1;32m     26\u001b[0m     \u001b[0;31m# Resize spectrogram to match the model input size\u001b[0m\u001b[0;34m\u001b[0m\u001b[0;34m\u001b[0m\u001b[0m\n\u001b[0;32m---> 27\u001b[0;31m     spectrogram_resized = keras.preprocessing.image.smart_resize(\n\u001b[0m\u001b[1;32m     28\u001b[0m         \u001b[0mspectrogram_db\u001b[0m\u001b[0;34m,\u001b[0m \u001b[0;34m(\u001b[0m\u001b[0;36m256\u001b[0m\u001b[0;34m,\u001b[0m \u001b[0;36m256\u001b[0m\u001b[0;34m)\u001b[0m\u001b[0;34m,\u001b[0m \u001b[0minterpolation\u001b[0m\u001b[0;34m=\u001b[0m\u001b[0;34m'bilinear'\u001b[0m\u001b[0;34m\u001b[0m\u001b[0;34m\u001b[0m\u001b[0m\n\u001b[1;32m     29\u001b[0m     )\n",
            "\u001b[0;32m/usr/local/lib/python3.10/dist-packages/keras/src/utils/image_utils.py\u001b[0m in \u001b[0;36msmart_resize\u001b[0;34m(x, size, interpolation)\u001b[0m\n\u001b[1;32m    137\u001b[0m     \u001b[0;32mif\u001b[0m \u001b[0mimg\u001b[0m\u001b[0;34m.\u001b[0m\u001b[0mshape\u001b[0m\u001b[0;34m.\u001b[0m\u001b[0mrank\u001b[0m \u001b[0;32mis\u001b[0m \u001b[0;32mnot\u001b[0m \u001b[0;32mNone\u001b[0m\u001b[0;34m:\u001b[0m\u001b[0;34m\u001b[0m\u001b[0;34m\u001b[0m\u001b[0m\n\u001b[1;32m    138\u001b[0m         \u001b[0;32mif\u001b[0m \u001b[0mimg\u001b[0m\u001b[0;34m.\u001b[0m\u001b[0mshape\u001b[0m\u001b[0;34m.\u001b[0m\u001b[0mrank\u001b[0m \u001b[0;34m<\u001b[0m \u001b[0;36m3\u001b[0m \u001b[0;32mor\u001b[0m \u001b[0mimg\u001b[0m\u001b[0;34m.\u001b[0m\u001b[0mshape\u001b[0m\u001b[0;34m.\u001b[0m\u001b[0mrank\u001b[0m \u001b[0;34m>\u001b[0m \u001b[0;36m4\u001b[0m\u001b[0;34m:\u001b[0m\u001b[0;34m\u001b[0m\u001b[0;34m\u001b[0m\u001b[0m\n\u001b[0;32m--> 139\u001b[0;31m             raise ValueError(\n\u001b[0m\u001b[1;32m    140\u001b[0m                 \u001b[0;34m\"Expected an image array with shape `(height, width, \"\u001b[0m\u001b[0;34m\u001b[0m\u001b[0;34m\u001b[0m\u001b[0m\n\u001b[1;32m    141\u001b[0m                 \u001b[0;34m\"channels)`, or `(batch_size, height, width, channels)`, but \"\u001b[0m\u001b[0;34m\u001b[0m\u001b[0;34m\u001b[0m\u001b[0m\n",
            "\u001b[0;31mValueError\u001b[0m: Expected an image array with shape `(height, width, channels)`, or `(batch_size, height, width, channels)`, but got input with incorrect rank, of shape (128, 111)."
          ]
        }
      ],
      "source": [
        "from pydub import AudioSegment\n",
        "import numpy as np\n",
        "from tensorflow import keras\n",
        "\n",
        "# Function to preprocess an audio file for prediction\n",
        "def preprocess_audio_for_prediction(file_path):\n",
        "    # Load audio file using pydub\n",
        "    audio = AudioSegment.from_file(file_path)\n",
        "\n",
        "    # Set the target sample rate\n",
        "    target_sr = 22050  # or any other sample rate you desire\n",
        "\n",
        "    # Resample the audio\n",
        "    audio = audio.set_frame_rate(target_sr)\n",
        "\n",
        "    # Convert the audio to numpy array with float32 format\n",
        "    audio_data = np.array(audio.get_array_of_samples(), dtype=np.float32)\n",
        "\n",
        "    # Normalize the audio data to the range [-1, 1]\n",
        "    audio_data /= np.max(np.abs(audio_data))\n",
        "\n",
        "    # Generate spectrogram\n",
        "    spectrogram = librosa.feature.melspectrogram(y=audio_data, sr=target_sr)\n",
        "    spectrogram_db = librosa.power_to_db(spectrogram, ref=np.max)\n",
        "\n",
        "    # Resize spectrogram to match the model input size\n",
        "    spectrogram_resized = keras.preprocessing.image.smart_resize(\n",
        "        spectrogram_db, (256, 256), interpolation='bilinear'\n",
        "    )\n",
        "\n",
        "    # Convert to 3D array (height, width, channels)\n",
        "    spectrogram_input = np.expand_dims(spectrogram_resized, axis=-1)\n",
        "\n",
        "    return spectrogram_input\n",
        "\n",
        "\n",
        "# Function to predict emotion from an audio file\n",
        "def predict_emotion(audio_file_path, model, label_encoder):\n",
        "    # Preprocess audio for prediction\n",
        "    preprocessed_spectrogram = preprocess_audio_for_prediction(audio_file_path)\n",
        "\n",
        "    # Make the prediction\n",
        "    predicted_probs = model.predict(np.array([preprocessed_spectrogram]))\n",
        "    predicted_class = np.argmax(predicted_probs)\n",
        "\n",
        "    # Decode the predicted class using label encoder\n",
        "    predicted_emotion = label_encoder.classes_[predicted_class]\n",
        "\n",
        "    return predicted_emotion\n",
        "\n",
        "# Example usage for prediction\n",
        "audio_file_path = '/content/drive/MyDrive/TESS Toronto emotional speech set data/OAF_Sad/OAF_back_sad.wav'\n",
        "predicted_emotion = predict_emotion(audio_file_path, model, label_encoder)\n",
        "\n",
        "print(f\"Predicted Emotion: {predicted_emotion}\")\n"
      ]
    },
    {
      "cell_type": "code",
      "execution_count": null,
      "metadata": {
        "id": "gDWndZgImNMy"
      },
      "outputs": [],
      "source": []
    }
  ],
  "metadata": {
    "accelerator": "GPU",
    "colab": {
      "gpuType": "T4",
      "provenance": []
    },
    "kernelspec": {
      "display_name": "Python 3",
      "name": "python3"
    },
    "language_info": {
      "name": "python"
    }
  },
  "nbformat": 4,
  "nbformat_minor": 0
}